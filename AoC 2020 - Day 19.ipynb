{
 "cells": [
  {
   "cell_type": "code",
   "execution_count": 1,
   "metadata": {},
   "outputs": [],
   "source": [
    "import os\n",
    "from pathlib import Path\n",
    "import numpy as np"
   ]
  },
  {
   "cell_type": "code",
   "execution_count": 2,
   "metadata": {},
   "outputs": [],
   "source": [
    "with open(Path(os.getcwd()) / 'data' / 'input-day-19.txt') as f:\n",
    "    raw = f.read().strip().split('\\n\\n')\n",
    "    \n",
    "rrules, examples = list(map(lambda l: l.split('\\n'), raw))"
   ]
  },
  {
   "cell_type": "code",
   "execution_count": 3,
   "metadata": {},
   "outputs": [],
   "source": [
    "class Rule:\n",
    "    def __init__(self, index: int):\n",
    "        self.index = index"
   ]
  },
  {
   "cell_type": "code",
   "execution_count": 4,
   "metadata": {},
   "outputs": [],
   "source": [
    "class PointerRule(Rule):\n",
    "    def __init__(self, index: int, sub_rules: list):\n",
    "        super().__init__(index)\n",
    "        self.sub_rules = sub_rules\n",
    "        \n",
    "    def __repr__(self):\n",
    "        return f'Rule No. {self.index}: {self.sub_rules}'"
   ]
  },
  {
   "cell_type": "code",
   "execution_count": 5,
   "metadata": {},
   "outputs": [],
   "source": [
    "class StringRule(Rule):\n",
    "    def __init__(self, index: int, match: str):\n",
    "        super().__init__(index)\n",
    "        self.match = match\n",
    "        \n",
    "    def __repr__(self):\n",
    "        return f'Rule No. {self.index}: {self.match}'"
   ]
  },
  {
   "cell_type": "code",
   "execution_count": 6,
   "metadata": {},
   "outputs": [],
   "source": [
    "rules = {}\n",
    "\n",
    "for rule in rrules:\n",
    "    rule_id, options = rule.split(': ')\n",
    "    rule_id = int(rule_id)\n",
    "    \n",
    "    # Check if StringRule or PointerRule\n",
    "    if '\"' in options:\n",
    "        match = options[1:-1]\n",
    "        rules[rule_id] = StringRule(rule_id, match)\n",
    "    else:\n",
    "        sub_rule = [ tuple(map(int, option.split())) for option in options.split('|') ]\n",
    "        rules[rule_id] = PointerRule(rule_id, sub_rule)"
   ]
  },
  {
   "cell_type": "code",
   "execution_count": 7,
   "metadata": {},
   "outputs": [],
   "source": [
    "def match(rules, string, rule_id=0, index=0):\n",
    "    \n",
    "    if index == len(string):\n",
    "        return []\n",
    "    \n",
    "    rule = rules[rule_id]\n",
    "    \n",
    "    if type(rule) is StringRule:\n",
    "        if string[index] == rule.match:\n",
    "            return [index + 1]\n",
    "        return []\n",
    "    elif type(rule) is PointerRule:\n",
    "        m = []\n",
    "        for option in rule.sub_rules:\n",
    "            sub = [index]\n",
    "            for sub_option in option:\n",
    "                new = []\n",
    "                for idx in sub:\n",
    "                    new += match(rules, string, sub_option, idx)\n",
    "                sub = new\n",
    "            m += sub\n",
    "        return m"
   ]
  },
  {
   "cell_type": "code",
   "execution_count": 8,
   "metadata": {},
   "outputs": [
    {
     "data": {
      "text/plain": [
       "279"
      ]
     },
     "execution_count": 8,
     "metadata": {},
     "output_type": "execute_result"
    }
   ],
   "source": [
    "[ len(msg) in match(rules, msg) for msg in examples ].count(True)"
   ]
  },
  {
   "cell_type": "code",
   "execution_count": 9,
   "metadata": {},
   "outputs": [],
   "source": [
    "rules2 = rules"
   ]
  },
  {
   "cell_type": "code",
   "execution_count": 10,
   "metadata": {},
   "outputs": [],
   "source": [
    "rules2[8].sub_rules = [(42,), (42, 8,)]\n",
    "rules2[11].sub_rules = [(42, 31), (42, 11, 31,)]"
   ]
  },
  {
   "cell_type": "code",
   "execution_count": 11,
   "metadata": {},
   "outputs": [
    {
     "data": {
      "text/plain": [
       "384"
      ]
     },
     "execution_count": 11,
     "metadata": {},
     "output_type": "execute_result"
    }
   ],
   "source": [
    "[ len(msg) in match(rules2, msg) for msg in examples ].count(True)"
   ]
  }
 ],
 "metadata": {
  "kernelspec": {
   "display_name": "madewithml",
   "language": "python",
   "name": "madewithml"
  },
  "language_info": {
   "codemirror_mode": {
    "name": "ipython",
    "version": 3
   },
   "file_extension": ".py",
   "mimetype": "text/x-python",
   "name": "python",
   "nbconvert_exporter": "python",
   "pygments_lexer": "ipython3",
   "version": "3.7.9"
  }
 },
 "nbformat": 4,
 "nbformat_minor": 4
}
