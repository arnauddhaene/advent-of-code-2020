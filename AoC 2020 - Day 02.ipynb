{
 "cells": [
  {
   "cell_type": "code",
   "execution_count": null,
   "metadata": {},
   "outputs": [],
   "source": [
    "import os\n",
    "from pathlib import Path"
   ]
  },
  {
   "cell_type": "code",
   "execution_count": 2,
   "metadata": {},
   "outputs": [
    {
     "data": {
      "text/plain": [
       "['13-14 f: ffffffffnfffvv',\n",
       " '10-12 w: kwtzpnzspwwwdz',\n",
       " '2-3 n: nnjn',\n",
       " '2-3 h: hhhh',\n",
       " '2-11 c: crccccccccsccc']"
      ]
     },
     "execution_count": 2,
     "metadata": {},
     "output_type": "execute_result"
    }
   ],
   "source": [
    "with open(Path(os.getcwd()) / 'data'  / 'input-day-2.txt') as file:\n",
    "    passwords = file.read().split('\\n')[:-1]\n",
    "passwords[:5]"
   ]
  },
  {
   "cell_type": "code",
   "execution_count": 3,
   "metadata": {},
   "outputs": [
    {
     "data": {
      "text/plain": [
       "[['13', '14', 'f', 'ffffffffnfffvv'],\n",
       " ['10', '12', 'w', 'kwtzpnzspwwwdz'],\n",
       " ['2', '3', 'n', 'nnjn'],\n",
       " ['2', '3', 'h', 'hhhh'],\n",
       " ['2', '11', 'c', 'crccccccccsccc']]"
      ]
     },
     "execution_count": 3,
     "metadata": {},
     "output_type": "execute_result"
    }
   ],
   "source": [
    "rules = []\n",
    "\n",
    "for entry in passwords:\n",
    "    rule, pw = tuple(entry.split(': '))\n",
    "    rg, letter = tuple(rule.split(' '))\n",
    "    ran = rg.split('-')\n",
    "    \n",
    "    rules.append([ran[0], ran[1], letter, pw])\n",
    "    \n",
    "rules[:5]"
   ]
  },
  {
   "cell_type": "code",
   "execution_count": 4,
   "metadata": {},
   "outputs": [
    {
     "name": "stdout",
     "output_type": "stream",
     "text": [
      "There are 603 such cases.\n"
     ]
    },
    {
     "data": {
      "text/plain": [
       "[['2', '3', 'n', 'nnjn'],\n",
       " ['1', '6', 'b', 'lcpcbcr'],\n",
       " ['16', '20', 'q', 'qsqqqqqqqjqqqvqqqqqh'],\n",
       " ['4', '5', 'm', 'mmfmm'],\n",
       " ['10', '13', 'h', 'hhhhhhchhkhhphh']]"
      ]
     },
     "execution_count": 4,
     "metadata": {},
     "output_type": "execute_result"
    }
   ],
   "source": [
    "answer = [pw for pw in rules if pw[3].count(pw[2]) in range(int(pw[0]), int(pw[1]) + 1) ]\n",
    "print(f'There are {len(answer)} such cases.')\n",
    "answer[:5]"
   ]
  },
  {
   "cell_type": "code",
   "execution_count": 5,
   "metadata": {},
   "outputs": [
    {
     "name": "stdout",
     "output_type": "stream",
     "text": [
      "There are 404 such cases.\n"
     ]
    },
    {
     "data": {
      "text/plain": [
       "[['2', '3', 'n', 'nnjn'],\n",
       " ['16', '20', 'q', 'qsqqqqqqqjqqqvqqqqqh'],\n",
       " ['9', '14', 'h', 'hhhhhhhhhhhhhchh'],\n",
       " ['14', '15', 'z', 'zzzzzzpzzzzzzzkz'],\n",
       " ['5', '6', 'm', 'mwjmmw']]"
      ]
     },
     "execution_count": 5,
     "metadata": {},
     "output_type": "execute_result"
    }
   ],
   "source": [
    "answer2 = [ pw for pw in rules if (pw[3][int(pw[0]) - 1] == pw[2]) ^ (pw[3][int(pw[1]) - 1] == pw[2])]\n",
    "print(f'There are {len(answer2)} such cases.')\n",
    "answer2[:5]"
   ]
  }
 ],
 "metadata": {
  "kernelspec": {
   "display_name": "datascience",
   "language": "python",
   "name": "datascience"
  },
  "language_info": {
   "codemirror_mode": {
    "name": "ipython",
    "version": 3
   },
   "file_extension": ".py",
   "mimetype": "text/x-python",
   "name": "python",
   "nbconvert_exporter": "python",
   "pygments_lexer": "ipython3",
   "version": "3.7.9"
  }
 },
 "nbformat": 4,
 "nbformat_minor": 4
}
