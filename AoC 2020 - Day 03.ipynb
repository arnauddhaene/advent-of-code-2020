{
 "cells": [
  {
   "cell_type": "code",
   "execution_count": 1,
   "metadata": {},
   "outputs": [],
   "source": [
    "import os\n",
    "from pathlib import Path\n",
    "from functools import reduce"
   ]
  },
  {
   "cell_type": "code",
   "execution_count": 2,
   "metadata": {},
   "outputs": [
    {
     "data": {
      "text/plain": [
       "['.#....#..##.#..####....#.......',\n",
       " '......#..#....#....###......#.#',\n",
       " '#..#.....#..............##.#.#.',\n",
       " '#.#...#....#...#......##..#..#.',\n",
       " '...#..#.##..#..#........###.#.#']"
      ]
     },
     "execution_count": 2,
     "metadata": {},
     "output_type": "execute_result"
    }
   ],
   "source": [
    "with open(Path(os.getcwd()) / 'data' / 'input-day-3.txt') as file:\n",
    "    carte = file.read().split('\\n')[:-1]\n",
    "carte[:5]"
   ]
  },
  {
   "cell_type": "code",
   "execution_count": 3,
   "metadata": {},
   "outputs": [
    {
     "data": {
      "text/plain": [
       "{(1, 1): 82, (1, 3): 173, (1, 5): 84, (1, 7): 80, (2, 1): 46}"
      ]
     },
     "execution_count": 3,
     "metadata": {},
     "output_type": "execute_result"
    }
   ],
   "source": [
    "def check_trees_following(down=1, right=3):\n",
    "    trees = 0\n",
    "    # the initial position is index 0 of the string\n",
    "    position = 0\n",
    "\n",
    "    # let us call the vertical isoclines 'lines' -- each entry in the list above is a 'line'\n",
    "    line = 0\n",
    "        \n",
    "    while line < len(carte):\n",
    "        line += down\n",
    "        position += right\n",
    "        \n",
    "        if line >= len(carte):\n",
    "            break\n",
    "        \n",
    "        # each line is 31 characters long but lines repeat themselves\n",
    "        tree = carte[line][position % 31] == '#'\n",
    "        trees += 1 if tree else 0\n",
    "        \n",
    "    return trees\n",
    "\n",
    "results = {\n",
    "    (1,1): check_trees_following(1, 1),\n",
    "    (1,3): check_trees_following(1, 3),\n",
    "    (1,5): check_trees_following(1, 5),\n",
    "    (1,7): check_trees_following(1, 7),\n",
    "    (2,1): check_trees_following(2, 1)\n",
    "}\n",
    "\n",
    "results"
   ]
  },
  {
   "cell_type": "code",
   "execution_count": 4,
   "metadata": {},
   "outputs": [
    {
     "data": {
      "text/plain": [
       "4385176320"
      ]
     },
     "execution_count": 4,
     "metadata": {},
     "output_type": "execute_result"
    }
   ],
   "source": [
    "reduce((lambda x, y: x * y), list(results.values()))"
   ]
  }
 ],
 "metadata": {
  "kernelspec": {
   "display_name": "datascience",
   "language": "python",
   "name": "datascience"
  },
  "language_info": {
   "codemirror_mode": {
    "name": "ipython",
    "version": 3
   },
   "file_extension": ".py",
   "mimetype": "text/x-python",
   "name": "python",
   "nbconvert_exporter": "python",
   "pygments_lexer": "ipython3",
   "version": "3.7.9"
  }
 },
 "nbformat": 4,
 "nbformat_minor": 4
}
