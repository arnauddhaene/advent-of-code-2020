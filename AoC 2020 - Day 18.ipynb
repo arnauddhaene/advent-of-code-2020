{
 "cells": [
  {
   "cell_type": "code",
   "execution_count": 1,
   "metadata": {},
   "outputs": [],
   "source": [
    "import os\n",
    "from pathlib import Path\n",
    "import numpy as np"
   ]
  },
  {
   "cell_type": "code",
   "execution_count": 2,
   "metadata": {},
   "outputs": [
    {
     "data": {
      "text/plain": [
       "['((3 * 4 + 5 + 2) + 6 * 6) * 9',\n",
       " '4 + 6 * (9 * 6 * 7 + (2 * 5 + 5 * 9 + 6)) * 8',\n",
       " '4 * (2 + 2 + 9) + 5 + 5 * ((5 + 3) + 4 * 7)',\n",
       " '6 + 8 * 3 + 4',\n",
       " '2 + 8 + (8 + (7 + 5 * 3 * 8 * 7 + 2) * 6) + 3']"
      ]
     },
     "execution_count": 2,
     "metadata": {},
     "output_type": "execute_result"
    }
   ],
   "source": [
    "with open(Path(os.getcwd()) / 'data' / 'input-day-18.txt') as f:\n",
    "    raw = f.read().strip().split('\\n')\n",
    "\n",
    "raw[-5:]"
   ]
  },
  {
   "cell_type": "code",
   "execution_count": 3,
   "metadata": {},
   "outputs": [],
   "source": [
    "def _find_parentheses(exp: str):\n",
    "    '''Finds the outermost open parentheses of a [str]'''\n",
    "    counter = 0\n",
    "    \n",
    "    for i, c in enumerate(exp):\n",
    "        if c == '(':\n",
    "            if counter == 0:\n",
    "                opening = i\n",
    "            counter += 1\n",
    "        elif c == ')':\n",
    "            counter -= 1\n",
    "            if counter == 0:\n",
    "                return opening, i\n",
    "    \n",
    "    return -1, -1"
   ]
  },
  {
   "cell_type": "code",
   "execution_count": 4,
   "metadata": {},
   "outputs": [],
   "source": [
    "def _reduce(exp: str, verbose:bool = False):\n",
    "    '''Reduces the [str] using Part One's math logic'''\n",
    "    \n",
    "    op, cl = _find_parentheses(exp)\n",
    "    \n",
    "    if (op != -1) and (cl != -1):\n",
    "        \n",
    "        if verbose:\n",
    "            print(f'{exp} gives in parentheses {op}, {cl}: {exp[op + 1:cl - 1]}')\n",
    "            \n",
    "        reduced = _reduce(exp[op + 1: cl])\n",
    "        new_exp = exp.replace(exp[op:cl + 1], reduced)\n",
    "            \n",
    "        if verbose:\n",
    "            print(f'Which is reduced to: {reduced}')\n",
    "            print(f'New expression is: {new_exp}')\n",
    "            \n",
    "        return _reduce(new_exp)\n",
    "    \n",
    "    elif len(exp.split(' ')) > 1:\n",
    "        \n",
    "        l, o, r = exp.split(' ')[:3]\n",
    "        \n",
    "        if o == '*':\n",
    "            res = int(l) * int(r)\n",
    "        elif o == '+':\n",
    "            res = int(l) + int(r)\n",
    "        else:\n",
    "            print('Error')\n",
    "        \n",
    "        return _reduce(\n",
    "            ' '.join([str(res), *exp.split(' ')[3:]])\n",
    "        )\n",
    "    \n",
    "    elif len(exp.split(' ')) == 1:\n",
    "        return exp"
   ]
  },
  {
   "cell_type": "code",
   "execution_count": 5,
   "metadata": {},
   "outputs": [
    {
     "data": {
      "text/plain": [
       "5783053349377"
      ]
     },
     "execution_count": 5,
     "metadata": {},
     "output_type": "execute_result"
    }
   ],
   "source": [
    "sum([ int(_reduce(line)) for line in raw ])"
   ]
  },
  {
   "cell_type": "code",
   "execution_count": 6,
   "metadata": {},
   "outputs": [],
   "source": [
    "def _reduce2(exp: str, verbose:bool = False):\n",
    "    '''Reduces the [str] using Part Two's math logic'''\n",
    "    \n",
    "    op, cl = _find_parentheses(exp)\n",
    "    \n",
    "    if (op != -1) and (cl != -1):\n",
    "        \n",
    "        if verbose:\n",
    "            print(f'{exp} gives in parentheses {op}, {cl}: {exp[op + 1:cl - 1]}')\n",
    "            \n",
    "        reduced = _reduce2(exp[op + 1: cl])\n",
    "        new_exp = exp.replace(exp[op:cl + 1], reduced)\n",
    "            \n",
    "        if verbose:\n",
    "            print(f'Which is reduced to: {reduced}')\n",
    "            print(f'New expression is: {new_exp}')\n",
    "            \n",
    "        return _reduce2(new_exp)\n",
    "    \n",
    "    elif len(exp.split(' ')) > 1:\n",
    "        \n",
    "        listed = exp.split(' ')\n",
    "        \n",
    "        if '+' in listed:\n",
    "            \n",
    "            i = listed.index('+')\n",
    "            replacement = str(int(listed[i - 1]) + int(listed[i + 1]))\n",
    "            replaced = ' '.join([ *listed[:i-1], replacement, *listed[i+2:]])\n",
    "            \n",
    "            return _reduce2(replaced)\n",
    "            \n",
    "        else:\n",
    "            l, o, r = exp.split(' ')[:3]\n",
    "\n",
    "            if o == '*':\n",
    "                res = int(l) * int(r)\n",
    "            else:\n",
    "                print('Error')\n",
    "\n",
    "            return _reduce2(\n",
    "                ' '.join([str(res), *exp.split(' ')[3:]])\n",
    "            )\n",
    "    \n",
    "    elif len(exp.split(' ')) == 1:\n",
    "        return exp"
   ]
  },
  {
   "cell_type": "code",
   "execution_count": 7,
   "metadata": {},
   "outputs": [
    {
     "data": {
      "text/plain": [
       "74821486966872"
      ]
     },
     "execution_count": 7,
     "metadata": {},
     "output_type": "execute_result"
    }
   ],
   "source": [
    "sum([ int(_reduce2(line)) for line in raw ])"
   ]
  }
 ],
 "metadata": {
  "kernelspec": {
   "display_name": "madewithml",
   "language": "python",
   "name": "madewithml"
  },
  "language_info": {
   "codemirror_mode": {
    "name": "ipython",
    "version": 3
   },
   "file_extension": ".py",
   "mimetype": "text/x-python",
   "name": "python",
   "nbconvert_exporter": "python",
   "pygments_lexer": "ipython3",
   "version": "3.7.9"
  }
 },
 "nbformat": 4,
 "nbformat_minor": 4
}
