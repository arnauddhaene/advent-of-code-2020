{
 "cells": [
  {
   "cell_type": "code",
   "execution_count": 1,
   "metadata": {},
   "outputs": [],
   "source": [
    "import os\n",
    "from pathlib import Path\n",
    "import re\n",
    "import numpy as np\n",
    "from itertools import combinations\n",
    "from collections import Counter"
   ]
  },
  {
   "cell_type": "code",
   "execution_count": 28,
   "metadata": {},
   "outputs": [
    {
     "data": {
      "text/plain": [
       "[('S', 4), ('W', 1), ('F', 8)]"
      ]
     },
     "execution_count": 28,
     "metadata": {},
     "output_type": "execute_result"
    }
   ],
   "source": [
    "with open(Path(os.getcwd()) / 'data' / 'input-day-12.txt') as file:\n",
    "    dirs = file.read().split('\\n')[:-1]\n",
    "    \n",
    "dirs = [ (d[0], int(d[1:])) for d in dirs ]\n",
    "dirs[-3:]"
   ]
  },
  {
   "cell_type": "code",
   "execution_count": 15,
   "metadata": {},
   "outputs": [],
   "source": [
    "# test = ['F10', 'N3', 'F7', 'R90', 'F11']\n",
    "# dirs = [ (d[0], int(d[1:])) for d in test ]"
   ]
  },
  {
   "cell_type": "code",
   "execution_count": 4,
   "metadata": {},
   "outputs": [
    {
     "data": {
      "text/plain": [
       "521"
      ]
     },
     "execution_count": 4,
     "metadata": {},
     "output_type": "execute_result"
    }
   ],
   "source": [
    "# Part One\n",
    "directions = dict(N = 'north', S = 'south', E = 'east', W = 'west')\n",
    "cur_d = 'east'\n",
    "trajectory = dict(north = 0, south = 0, east = 0, west = 0)\n",
    "degs = { 'north': 0, 'south': 180, 'east': 90, 'west': 270 }\n",
    "\n",
    "\n",
    "for d in dirs:\n",
    "    if d[0] in list(directions.keys()):\n",
    "        trajectory[directions[d[0]]] += d[1]\n",
    "    elif d[0] == 'L':\n",
    "        cur_d = [ k for k, v in degs.items() if v == (degs[cur_d] - d[1]) % 360][0]\n",
    "    elif d[0] == 'R':\n",
    "        cur_d = [ k for k, v in degs.items() if v == (degs[cur_d] + d[1]) % 360][0]\n",
    "    elif d[0] == 'F':\n",
    "        trajectory[cur_d] += d[1]\n",
    "    else:\n",
    "        print('Error my dude')\n",
    "        \n",
    "    # print(f'Iteration of {d} gives {trajectory} with current direction being {cur_d}')\n",
    "        \n",
    "np.abs(trajectory['north'] - trajectory['south']) + np.abs(trajectory['west'] - trajectory['east'])"
   ]
  },
  {
   "cell_type": "code",
   "execution_count": 30,
   "metadata": {},
   "outputs": [
    {
     "data": {
      "text/plain": [
       "({'north': -31, 'east': 52}, {'north': -2558, 'east': 20290})"
      ]
     },
     "execution_count": 30,
     "metadata": {},
     "output_type": "execute_result"
    }
   ],
   "source": [
    "# Part Two\n",
    "directions = dict(N = 1, S = -1, E = 1, W = -1)\n",
    "waypoint = { 'north': 1, 'east': 10 }\n",
    "position = { 'north': 0, 'east': 0 }\n",
    "\n",
    "for d in dirs:\n",
    "    if d[0] in ['N', 'S']:\n",
    "        waypoint['north'] += directions[d[0]] * d[1]\n",
    "    elif d[0] in ['E', 'W']:\n",
    "        waypoint['east'] += directions[d[0]] * d[1]\n",
    "    elif d[0] in ['R', 'L']:\n",
    "        if d[1] == 180:\n",
    "            waypoint['north'] *= -1\n",
    "            waypoint['east'] *= -1\n",
    "        elif (d[0] == 'R' and d[1] == 90) or (d[0] == 'L' and d[1] == 270):\n",
    "            waypoint['north'], waypoint['east'] = -waypoint['east'], waypoint['north']\n",
    "        elif (d[0] == 'L' and d[1] == 90) or (d[0] == 'R' and d[1] == 270):\n",
    "            waypoint['north'], waypoint['east'] = waypoint['east'], -waypoint['north']\n",
    "    elif d[0] == 'F':\n",
    "        position['north'] += d[1] * waypoint['north']\n",
    "        position['east'] += d[1] * waypoint['east']\n",
    "    else:\n",
    "        print('Error my dude')\n",
    "        \n",
    "    # print(f'Iteration of {d} gives {waypoint} and {position}')\n",
    "        \n",
    "waypoint, position"
   ]
  },
  {
   "cell_type": "code",
   "execution_count": 31,
   "metadata": {},
   "outputs": [
    {
     "data": {
      "text/plain": [
       "22848"
      ]
     },
     "execution_count": 31,
     "metadata": {},
     "output_type": "execute_result"
    }
   ],
   "source": [
    "np.sum(np.abs(list(position.values())))"
   ]
  },
  {
   "cell_type": "code",
   "execution_count": null,
   "metadata": {},
   "outputs": [],
   "source": []
  }
 ],
 "metadata": {
  "kernelspec": {
   "display_name": "datascience",
   "language": "python",
   "name": "datascience"
  },
  "language_info": {
   "codemirror_mode": {
    "name": "ipython",
    "version": 3
   },
   "file_extension": ".py",
   "mimetype": "text/x-python",
   "name": "python",
   "nbconvert_exporter": "python",
   "pygments_lexer": "ipython3",
   "version": "3.7.9"
  }
 },
 "nbformat": 4,
 "nbformat_minor": 4
}
