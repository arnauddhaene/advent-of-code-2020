{
 "cells": [
  {
   "cell_type": "code",
   "execution_count": 1,
   "metadata": {},
   "outputs": [],
   "source": [
    "import os\n",
    "from pathlib import Path\n",
    "import re\n",
    "import numpy as np"
   ]
  },
  {
   "cell_type": "code",
   "execution_count": 2,
   "metadata": {},
   "outputs": [
    {
     "data": {
      "text/plain": [
       "['vibrant red bags contain 1 dotted indigo bag, 2 faded beige bags, 1 drab tomato bag.',\n",
       " 'striped maroon bags contain 3 plaid aqua bags, 2 dim maroon bags, 4 plaid chartreuse bags.',\n",
       " 'pale tan bags contain 5 posh gray bags, 3 wavy violet bags.']"
      ]
     },
     "execution_count": 2,
     "metadata": {},
     "output_type": "execute_result"
    }
   ],
   "source": [
    "with open(Path(os.getcwd()) / 'data' / 'input-day-7.txt') as file:\n",
    "    rules = file.read().split('\\n')[:-1]\n",
    "rules[-3:]"
   ]
  },
  {
   "cell_type": "code",
   "execution_count": 3,
   "metadata": {},
   "outputs": [],
   "source": [
    "# Dictionary structure for Part Two\n",
    "# List structure for Part One\n",
    "bags = {}\n",
    "bags_l = []\n",
    "for rule in rules:\n",
    "    \n",
    "    raw_container, raw_content = rule.split(' contain ')\n",
    "    \n",
    "    # remove 'bag' or 'bags'\n",
    "    container = raw_container.rsplit(' ', 1)[0]\n",
    "    \n",
    "    # remove dot at the end of the sentence\n",
    "    raw_content = raw_content[:-1]\n",
    "    \n",
    "    contents = raw_content.split(', ')\n",
    "    \n",
    "    keyed_contents = {}\n",
    "    for content in contents:\n",
    "        keyed_contents = { **keyed_contents, content[2:].rsplit(' ', 1)[0]: content[0]}\n",
    "    \n",
    "    bags = { **bags, **{container: keyed_contents}}\n",
    "    bags_l.append([container, keyed_contents])"
   ]
  },
  {
   "cell_type": "code",
   "execution_count": 4,
   "metadata": {},
   "outputs": [
    {
     "data": {
      "text/plain": [
       "326"
      ]
     },
     "execution_count": 4,
     "metadata": {},
     "output_type": "execute_result"
    }
   ],
   "source": [
    "# Part One\n",
    "colors = ['shiny gold']\n",
    "\n",
    "# Leads to final result in 2 runs already\n",
    "for run in range(2):\n",
    "    for color in colors:\n",
    "        for rule in bags_l:\n",
    "            if color in rule[1].keys() and rule[0] not in colors:\n",
    "                colors.append(rule[0])\n",
    "\n",
    "# remove shiny gold to final length\n",
    "len(colors) - 1"
   ]
  },
  {
   "cell_type": "code",
   "execution_count": 5,
   "metadata": {},
   "outputs": [
    {
     "data": {
      "text/plain": [
       "5635"
      ]
     },
     "execution_count": 5,
     "metadata": {},
     "output_type": "execute_result"
    }
   ],
   "source": [
    "# Part Two\n",
    "def count_for(color):\n",
    "    count = 0\n",
    "    for color, amount in bags[color].items():\n",
    "        if 'other' not in color:\n",
    "            count += count_for(color) * int(amount) + int(amount)\n",
    "            \n",
    "    return count\n",
    "\n",
    "count_for('shiny gold')"
   ]
  }
 ],
 "metadata": {
  "kernelspec": {
   "display_name": "datascience",
   "language": "python",
   "name": "datascience"
  },
  "language_info": {
   "codemirror_mode": {
    "name": "ipython",
    "version": 3
   },
   "file_extension": ".py",
   "mimetype": "text/x-python",
   "name": "python",
   "nbconvert_exporter": "python",
   "pygments_lexer": "ipython3",
   "version": "3.7.9"
  }
 },
 "nbformat": 4,
 "nbformat_minor": 4
}
