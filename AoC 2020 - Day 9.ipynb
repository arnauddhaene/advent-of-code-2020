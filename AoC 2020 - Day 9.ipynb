{
 "cells": [
  {
   "cell_type": "code",
   "execution_count": 1,
   "metadata": {},
   "outputs": [],
   "source": [
    "import os\n",
    "from pathlib import Path\n",
    "import re\n",
    "import numpy as np\n",
    "from itertools import combinations "
   ]
  },
  {
   "cell_type": "code",
   "execution_count": 2,
   "metadata": {},
   "outputs": [
    {
     "data": {
      "text/plain": [
       "[52525873020448, 76496577082639, 88881063549210]"
      ]
     },
     "execution_count": 2,
     "metadata": {},
     "output_type": "execute_result"
    }
   ],
   "source": [
    "with open(Path(os.getcwd()) / 'data' / 'input-day-9.txt') as file:\n",
    "    numbers = file.read().split('\\n')[:-1]\n",
    "    \n",
    "numbers = list(map(lambda s: int(s), numbers))\n",
    "numbers[-3:]"
   ]
  },
  {
   "cell_type": "code",
   "execution_count": 3,
   "metadata": {},
   "outputs": [],
   "source": [
    "def is_valid(array, index, scanning_space):\n",
    "    return array[index] in [ sum(comb) for comb in list(combinations(array[index-scanning_space:index], 2)) ]"
   ]
  },
  {
   "cell_type": "code",
   "execution_count": 4,
   "metadata": {},
   "outputs": [
    {
     "data": {
      "text/plain": [
       "(659, 1492208709)"
      ]
     },
     "execution_count": 4,
     "metadata": {},
     "output_type": "execute_result"
    }
   ],
   "source": [
    "# Part One\n",
    "def find_unvalid(numbers, scanning_space=25):\n",
    "    \n",
    "    i = scanning_space\n",
    "\n",
    "    while True:\n",
    "        if not is_valid(numbers, i, scanning_space):\n",
    "            return(i, numbers[i])\n",
    "        i += 1\n",
    "\n",
    "    return None\n",
    "\n",
    "find_unvalid(numbers)"
   ]
  },
  {
   "cell_type": "code",
   "execution_count": 5,
   "metadata": {},
   "outputs": [],
   "source": [
    "def look(numbers, prize):\n",
    "    i = 0\n",
    "    not_found = True\n",
    "\n",
    "    while not_found:\n",
    "\n",
    "        j = i + 1\n",
    "        invalid = True\n",
    "\n",
    "        while invalid:\n",
    "\n",
    "            if sum(numbers[i:j+1]) > numbers[prize]:\n",
    "                break\n",
    "\n",
    "            if sum(numbers[i:j+1]) == numbers[prize]:\n",
    "                invalid = False\n",
    "                not_found = False\n",
    "                return(i, j, numbers[i:j+1])\n",
    "\n",
    "            j += 1\n",
    "\n",
    "        i += 1\n",
    "        \n",
    "i, j, l = look(numbers, 659)"
   ]
  },
  {
   "cell_type": "code",
   "execution_count": 6,
   "metadata": {},
   "outputs": [
    {
     "data": {
      "text/plain": [
       "238243506"
      ]
     },
     "execution_count": 6,
     "metadata": {},
     "output_type": "execute_result"
    }
   ],
   "source": [
    "np.min(l) + np.max(l)"
   ]
  }
 ],
 "metadata": {
  "kernelspec": {
   "display_name": "datascience",
   "language": "python",
   "name": "datascience"
  },
  "language_info": {
   "codemirror_mode": {
    "name": "ipython",
    "version": 3
   },
   "file_extension": ".py",
   "mimetype": "text/x-python",
   "name": "python",
   "nbconvert_exporter": "python",
   "pygments_lexer": "ipython3",
   "version": "3.7.9"
  }
 },
 "nbformat": 4,
 "nbformat_minor": 4
}
