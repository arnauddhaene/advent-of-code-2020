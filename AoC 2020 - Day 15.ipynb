{
 "cells": [
  {
   "cell_type": "code",
   "execution_count": 1,
   "metadata": {},
   "outputs": [],
   "source": [
    "import operator"
   ]
  },
  {
   "cell_type": "code",
   "execution_count": 2,
   "metadata": {},
   "outputs": [],
   "source": [
    "starting = [1,17,0,10,18,11,6]"
   ]
  },
  {
   "cell_type": "code",
   "execution_count": 3,
   "metadata": {},
   "outputs": [],
   "source": [
    "def indices(a, n):\n",
    "    return [ pos for pos, num in enumerate(a) if num == n ]"
   ]
  },
  {
   "cell_type": "code",
   "execution_count": 4,
   "metadata": {},
   "outputs": [],
   "source": [
    "def last_index(lst, value):\n",
    "    return len(lst) - operator.indexOf(reversed(lst), value) - 1"
   ]
  },
  {
   "cell_type": "code",
   "execution_count": 5,
   "metadata": {},
   "outputs": [],
   "source": [
    "def next_number(array):\n",
    "    \n",
    "    last_number = array[-1]\n",
    "        \n",
    "    if last_number not in array[:-1]:\n",
    "        return 0\n",
    "    else:\n",
    "        return len(array[:-1]) - last_index(array[:-1], last_number)"
   ]
  },
  {
   "cell_type": "code",
   "execution_count": 6,
   "metadata": {},
   "outputs": [
    {
     "data": {
      "text/plain": [
       "595"
      ]
     },
     "execution_count": 6,
     "metadata": {},
     "output_type": "execute_result"
    }
   ],
   "source": [
    "ns = starting.copy()\n",
    "\n",
    "while len(ns) != 2020:\n",
    "    ns.append(next_number(ns))\n",
    "    \n",
    "ns[-1]"
   ]
  },
  {
   "cell_type": "code",
   "execution_count": 7,
   "metadata": {},
   "outputs": [
    {
     "data": {
      "text/plain": [
       "1708310"
      ]
     },
     "execution_count": 7,
     "metadata": {},
     "output_type": "execute_result"
    }
   ],
   "source": [
    "starting = [1,17,0,10,18,11,6]\n",
    "\n",
    "said = {}\n",
    "\n",
    "next_number = starting[-1]\n",
    "\n",
    "for i, number in enumerate(starting):\n",
    "    said[number] = i + 1\n",
    "\n",
    "for i in range(len(starting), 30000000):\n",
    "    if next_number not in said:\n",
    "        said[next_number] = i\n",
    "        next_number = 0\n",
    "    else:\n",
    "        tmp = said[next_number]\n",
    "        said[next_number] = i\n",
    "        next_number = said[next_number] - tmp\n",
    "\n",
    "next_number"
   ]
  }
 ],
 "metadata": {
  "kernelspec": {
   "display_name": "datascience",
   "language": "python",
   "name": "datascience"
  },
  "language_info": {
   "codemirror_mode": {
    "name": "ipython",
    "version": 3
   },
   "file_extension": ".py",
   "mimetype": "text/x-python",
   "name": "python",
   "nbconvert_exporter": "python",
   "pygments_lexer": "ipython3",
   "version": "3.7.9"
  }
 },
 "nbformat": 4,
 "nbformat_minor": 4
}
