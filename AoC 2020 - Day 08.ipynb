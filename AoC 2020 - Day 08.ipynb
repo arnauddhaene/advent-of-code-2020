{
 "cells": [
  {
   "cell_type": "code",
   "execution_count": 1,
   "metadata": {},
   "outputs": [],
   "source": [
    "import os\n",
    "from pathlib import Path\n",
    "import re\n",
    "import numpy as np"
   ]
  },
  {
   "cell_type": "code",
   "execution_count": 2,
   "metadata": {},
   "outputs": [
    {
     "data": {
      "text/plain": [
       "['jmp +1', 'acc +29', 'jmp +1']"
      ]
     },
     "execution_count": 2,
     "metadata": {},
     "output_type": "execute_result"
    }
   ],
   "source": [
    "with open(Path(os.getcwd()) / 'data' / 'input-day-8.txt') as file:\n",
    "    code = file.read().split('\\n')[:-1]\n",
    "code[-3:]"
   ]
  },
  {
   "cell_type": "code",
   "execution_count": 3,
   "metadata": {},
   "outputs": [],
   "source": [
    "# Test code\n",
    "# code =  ['nop +0', 'acc +1', 'jmp +4', 'acc +3', 'jmp -3', 'acc -99', 'acc +1', 'jmp -4', 'acc +6']"
   ]
  },
  {
   "cell_type": "code",
   "execution_count": 4,
   "metadata": {},
   "outputs": [
    {
     "data": {
      "text/plain": [
       "[['jmp', 1, 0],\n",
       " ['acc', -18, 0],\n",
       " ['acc', 19, 0],\n",
       " ['acc', 19, 0],\n",
       " ['jmp', 202, 0]]"
      ]
     },
     "execution_count": 4,
     "metadata": {},
     "output_type": "execute_result"
    }
   ],
   "source": [
    "# The third value of the tuple is the number of times it's been run\n",
    "def fetch_lines(code):\n",
    "    return [ [line.split()[0], int(line.split()[1]), 0] for line in code ]\n",
    "\n",
    "lines = fetch_lines(code)\n",
    "lines[:5]"
   ]
  },
  {
   "cell_type": "code",
   "execution_count": 5,
   "metadata": {},
   "outputs": [],
   "source": [
    "def run(lines):\n",
    "    index = 0\n",
    "    accumulator = 0\n",
    "    go = True\n",
    "\n",
    "    while go:\n",
    "\n",
    "        if lines[index][2] > 1:\n",
    "            go = False\n",
    "            return ['Loop', accumulator]\n",
    "\n",
    "        if lines[-1][2] == 1:\n",
    "            go = False\n",
    "            return ['Result', accumulator]\n",
    "\n",
    "        action = lines[index][0]\n",
    "\n",
    "        if action == 'jmp':\n",
    "            index += lines[index][1]\n",
    "\n",
    "        elif action == 'acc':\n",
    "            accumulator += lines[index][1]\n",
    "            index += 1\n",
    "\n",
    "        elif action == 'nop':\n",
    "            index += 1\n",
    "\n",
    "        lines[index][2] += 1"
   ]
  },
  {
   "cell_type": "code",
   "execution_count": 6,
   "metadata": {},
   "outputs": [
    {
     "data": {
      "text/plain": [
       "['Loop', 1610]"
      ]
     },
     "execution_count": 6,
     "metadata": {},
     "output_type": "execute_result"
    }
   ],
   "source": [
    "# Part One\n",
    "run(fetch_lines(code))"
   ]
  },
  {
   "cell_type": "code",
   "execution_count": 7,
   "metadata": {},
   "outputs": [
    {
     "name": "stdout",
     "output_type": "stream",
     "text": [
      "Result is: ['Result', 1703]\n"
     ]
    }
   ],
   "source": [
    "# Part Two\n",
    "mod_index = 0\n",
    "    \n",
    "while True:\n",
    "\n",
    "    # reinitialize\n",
    "    lines = fetch_lines(code)\n",
    "\n",
    "    if lines[mod_index][0] == 'acc':\n",
    "        # print(f'Skipped line {mod_index}')\n",
    "        mod_index += 1\n",
    "        continue\n",
    "    elif lines[mod_index][0] == 'nop':\n",
    "        # print(f'Switched line {mod_index} nop to jmp')\n",
    "        lines[mod_index][0] = 'jmp'\n",
    "    elif lines[mod_index][0] == 'jmp':\n",
    "        # print(f'Switched line {mod_index} jmp to nop')\n",
    "        lines[mod_index][0] = 'nop'\n",
    "        \n",
    "    result = run(lines)\n",
    "    if result[0] == 'Result':\n",
    "        print(f'Result is: {result}')\n",
    "        break\n",
    "        \n",
    "    mod_index += 1"
   ]
  }
 ],
 "metadata": {
  "kernelspec": {
   "display_name": "datascience",
   "language": "python",
   "name": "datascience"
  },
  "language_info": {
   "codemirror_mode": {
    "name": "ipython",
    "version": 3
   },
   "file_extension": ".py",
   "mimetype": "text/x-python",
   "name": "python",
   "nbconvert_exporter": "python",
   "pygments_lexer": "ipython3",
   "version": "3.7.9"
  }
 },
 "nbformat": 4,
 "nbformat_minor": 4
}
