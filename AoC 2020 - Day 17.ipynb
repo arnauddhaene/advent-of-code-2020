{
 "cells": [
  {
   "cell_type": "code",
   "execution_count": 1,
   "metadata": {},
   "outputs": [],
   "source": [
    "import os\n",
    "from pathlib import Path\n",
    "import numpy as np\n",
    "from scipy.signal import convolve"
   ]
  },
  {
   "cell_type": "code",
   "execution_count": 2,
   "metadata": {},
   "outputs": [],
   "source": [
    "with open(Path(os.getcwd()) / 'data' / 'input-day-17.txt') as f:\n",
    "    raw = f.read().strip().split('\\n')\n",
    "\n",
    "data = list(map(str, raw))"
   ]
  },
  {
   "cell_type": "code",
   "execution_count": 3,
   "metadata": {},
   "outputs": [],
   "source": [
    "def numpify(row):\n",
    "    row = row.replace(\".\", \"0 \").replace(\"#\", \"1 \").split()\n",
    "    return np.array(row).astype(bool)"
   ]
  },
  {
   "cell_type": "code",
   "execution_count": 4,
   "metadata": {},
   "outputs": [],
   "source": [
    "def converge(space):\n",
    "    \n",
    "    kernel = np.ones([3] * space.ndim)\n",
    "    kernel[tuple([1] * space.ndim)] = 0\n",
    "    \n",
    "    neighbors = convolve(space, kernel, mode=\"same\", method=\"direct\").astype(int)\n",
    "\n",
    "    out = (space * neighbors == 2) + neighbors == 3\n",
    "\n",
    "    return out.astype(bool)    "
   ]
  },
  {
   "cell_type": "code",
   "execution_count": 5,
   "metadata": {},
   "outputs": [
    {
     "data": {
      "text/plain": [
       "346"
      ]
     },
     "execution_count": 5,
     "metadata": {},
     "output_type": "execute_result"
    }
   ],
   "source": [
    "# Part One\n",
    "cycles = 6\n",
    "\n",
    "# Put in nice format\n",
    "space = np.pad(np.expand_dims(list(map(numpify, data)), 0), cycles + 1)\n",
    "\n",
    "for _ in range(cycles):\n",
    "    space = converge(space)\n",
    "    \n",
    "np.sum(space)"
   ]
  },
  {
   "cell_type": "code",
   "execution_count": 6,
   "metadata": {},
   "outputs": [
    {
     "data": {
      "text/plain": [
       "1632"
      ]
     },
     "execution_count": 6,
     "metadata": {},
     "output_type": "execute_result"
    }
   ],
   "source": [
    "# Part Two\n",
    "cycles = 6\n",
    "\n",
    "# Put in nice format\n",
    "space = np.pad(np.expand_dims(np.expand_dims(list(map(numpify, data)), 0), 0), cycles + 1)\n",
    "\n",
    "for _ in range(cycles):\n",
    "    space = converge(space)\n",
    "    \n",
    "np.sum(space)"
   ]
  }
 ],
 "metadata": {
  "kernelspec": {
   "display_name": "madewithml",
   "language": "python",
   "name": "madewithml"
  },
  "language_info": {
   "codemirror_mode": {
    "name": "ipython",
    "version": 3
   },
   "file_extension": ".py",
   "mimetype": "text/x-python",
   "name": "python",
   "nbconvert_exporter": "python",
   "pygments_lexer": "ipython3",
   "version": "3.7.9"
  }
 },
 "nbformat": 4,
 "nbformat_minor": 4
}
