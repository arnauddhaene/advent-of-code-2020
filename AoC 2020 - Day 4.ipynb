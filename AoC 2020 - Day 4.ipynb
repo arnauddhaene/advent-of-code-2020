{
 "cells": [
  {
   "cell_type": "code",
   "execution_count": 10,
   "metadata": {},
   "outputs": [],
   "source": [
    "import os\n",
    "from pathlib import Path\n",
    "import re"
   ]
  },
  {
   "cell_type": "code",
   "execution_count": 56,
   "metadata": {},
   "outputs": [
    {
     "data": {
      "text/plain": [
       "['iyr:2013 hcl:#ceb3a1\\nhgt:151cm eyr:2030\\nbyr:1943 ecl:grn',\n",
       " 'eyr:1988\\niyr:2015 ecl:gry\\nhgt:153in pid:173cm\\nhcl:0c6261 byr:1966',\n",
       " 'hcl:#733820\\nhgt:166cm eyr:2025 pid:79215921 byr:1952 iyr:2014 ecl:blu',\n",
       " 'eyr:2022\\nhgt:165cm hcl:#733820\\niyr:2013 pid:073015801 ecl:oth\\ncid:101',\n",
       " 'iyr:2013\\necl:brn hcl:#623a2f\\ncid:246 byr:1948 pid:122719649\\nhgt:160cm\\neyr:2026',\n",
       " 'eyr:2028\\npid:229371724 hgt:154cm hcl:#ceb3a1 byr:2000 ecl:hzl iyr:2017',\n",
       " 'eyr:2029 ecl:amb\\nbyr:1980\\nhgt:177cm pid:914628384 hcl:#623a2f iyr:2013',\n",
       " 'iyr:2019\\neyr:2026 hcl:#efcc98 pid:475316185 byr:1945\\nhgt:76in\\necl:amb',\n",
       " 'pid:371759305 iyr:2018 hcl:#623a2f eyr:2026 byr:1984 hgt:174cm',\n",
       " 'iyr:2010 pid:184800910 ecl:amb cid:108 eyr:2028\\nhcl:#cfa07d']"
      ]
     },
     "execution_count": 56,
     "metadata": {},
     "output_type": "execute_result"
    }
   ],
   "source": [
    "# split into list of different passports directly by using '\\n\\n' separator\n",
    "with open(Path(os.getcwd()) / 'data' / 'input-day-4.txt') as file:\n",
    "    pps = file.read().split('\\n\\n')[:-1]\n",
    "pps[:10]"
   ]
  },
  {
   "cell_type": "code",
   "execution_count": 58,
   "metadata": {},
   "outputs": [
    {
     "data": {
      "text/plain": [
       "[{'iyr': '2013',\n",
       "  'hcl': '#ceb3a1',\n",
       "  'hgt': '151cm',\n",
       "  'eyr': '2030',\n",
       "  'byr': '1943',\n",
       "  'ecl': 'grn'}]"
      ]
     },
     "execution_count": 58,
     "metadata": {},
     "output_type": "execute_result"
    }
   ],
   "source": [
    "passports = []\n",
    "for line in pps:\n",
    "    fields = line.split()\n",
    "    data = {}\n",
    "    for field in fields:\n",
    "        k, v = field.split(':')\n",
    "        data[k] = v\n",
    "    passports.append(data)\n",
    "        \n",
    "passports[:1]"
   ]
  },
  {
   "cell_type": "code",
   "execution_count": 63,
   "metadata": {},
   "outputs": [
    {
     "data": {
      "text/plain": [
       "207"
      ]
     },
     "execution_count": 63,
     "metadata": {},
     "output_type": "execute_result"
    }
   ],
   "source": [
    "# check how many are valid\n",
    "def all_fields(passport):\n",
    "    needed = ['byr', 'iyr', 'eyr', 'hgt', 'hcl', 'ecl', 'pid' ]\n",
    "    for field in needed:\n",
    "        if field not in passport.keys():\n",
    "            return False\n",
    "    return True\n",
    "\n",
    "len([ passport for passport in passports if has_all_fields(passport)])"
   ]
  },
  {
   "cell_type": "code",
   "execution_count": 67,
   "metadata": {},
   "outputs": [
    {
     "data": {
      "text/plain": [
       "166"
      ]
     },
     "execution_count": 67,
     "metadata": {},
     "output_type": "execute_result"
    }
   ],
   "source": [
    "def valid_fields(passport):\n",
    "    if not has_all_fields(passport):\n",
    "        return False\n",
    "\n",
    "    invalid = False\n",
    "    for k, v in passport.items():\n",
    "        if k == \"byr\":  # four digits; at least 1920 and at most 2002\n",
    "            if len(v) != 4:\n",
    "                invalid = True\n",
    "            if 1920 > int(v) or 2002 < int(v):\n",
    "                invalid = True\n",
    "        elif k == \"iyr\":  # four digits; at least 2010 and at most 2020\n",
    "            if len(v) != 4:\n",
    "                invalid = True\n",
    "            if 2010 > int(v) or 2020 < int(v):\n",
    "                invalid = True\n",
    "        elif k == \"eyr\":  # four digits; at least 2020 and at most 2030\n",
    "            if len(v) != 4:\n",
    "                invalid = True\n",
    "            if 2020 > int(v) or 2030 < int(v):\n",
    "                invalid = True\n",
    "        elif k == \"hgt\":  # If cm, at least 150 and at most 193 if in, at least 59 and at most 76\n",
    "            if v[-2:] == \"cm\":\n",
    "                if 150 > int(v[:-2]) or 193 < int(v[:-2]):\n",
    "                    invalid = True\n",
    "            elif v[-2:] == \"in\":\n",
    "                if 59 > int(v[:-2]) or 76 < int(v[:-2]):\n",
    "                    invalid = True\n",
    "            else:\n",
    "                invalid = True\n",
    "        elif k == \"hcl\":  # a # followed by exactly six characters 0-9 or a-f\n",
    "            if len(v) != 7:\n",
    "                invalid = True\n",
    "            if v[0] != \"#\":\n",
    "                invalid = True\n",
    "            for c in v[1:]:\n",
    "                if c not in \"0123456789abcdef\":\n",
    "                    invalid = True\n",
    "        elif k == \"ecl\":  # exactly one of: amb blu brn gry grn hzl oth\n",
    "            if v not in [\"amb\", \"blu\", \"brn\", \"gry\", \"grn\", \"hzl\", \"oth\"]:\n",
    "                invalid = True\n",
    "        elif k == \"pid\":  # a nine-digit number, including leading zeroes\n",
    "            if len(v) != 9:\n",
    "                invalid = True\n",
    "            for c in v:\n",
    "                if c not in \"0123456789\":\n",
    "                    invalid = True\n",
    "    if invalid:\n",
    "        return False\n",
    "    return True\n",
    "\n",
    "len([ passport for passport in passports if valid_fields(passport)])"
   ]
  },
  {
   "cell_type": "code",
   "execution_count": null,
   "metadata": {},
   "outputs": [],
   "source": []
  }
 ],
 "metadata": {
  "kernelspec": {
   "display_name": "datascience",
   "language": "python",
   "name": "datascience"
  },
  "language_info": {
   "codemirror_mode": {
    "name": "ipython",
    "version": 3
   },
   "file_extension": ".py",
   "mimetype": "text/x-python",
   "name": "python",
   "nbconvert_exporter": "python",
   "pygments_lexer": "ipython3",
   "version": "3.7.9"
  }
 },
 "nbformat": 4,
 "nbformat_minor": 4
}
