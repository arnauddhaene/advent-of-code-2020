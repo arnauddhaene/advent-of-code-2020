{
 "cells": [
  {
   "cell_type": "code",
   "execution_count": 1,
   "metadata": {},
   "outputs": [],
   "source": [
    "import os\n",
    "from pathlib import Path\n",
    "import re\n",
    "import numpy as np\n",
    "from itertools import combinations\n",
    "from collections import Counter"
   ]
  },
  {
   "cell_type": "code",
   "execution_count": 2,
   "metadata": {},
   "outputs": [],
   "source": [
    "with open(Path(os.getcwd()) / 'data' / 'input-day-11.txt') as file:\n",
    "    seats = file.read().split('\\n')[:-1]\n",
    "    \n",
    "seats = np.array([ list(seat) for seat in seats ])"
   ]
  },
  {
   "cell_type": "code",
   "execution_count": 3,
   "metadata": {},
   "outputs": [
    {
     "data": {
      "text/plain": [
       "array([['L', 'L', 'L', 'L', 'L', 'L', 'L', 'L', 'L', '.', 'L', 'L', 'L',\n",
       "        'L', 'L', '.', 'L', 'L', 'L', 'L', 'L', 'L', 'L', 'L', 'L', '.',\n",
       "        'L', 'L', 'L', 'L', 'L', 'L', 'L', 'L', 'L', 'L', 'L', 'L', '.',\n",
       "        'L', 'L', 'L', 'L', 'L', 'L', '.', 'L', 'L', '.', 'L', 'L', 'L',\n",
       "        '.', 'L', 'L', '.', 'L', '.', 'L', 'L', 'L', 'L', 'L', 'L', 'L',\n",
       "        'L', 'L', 'L', 'L', 'L', 'L', 'L', '.', 'L', 'L', 'L', 'L', 'L',\n",
       "        'L', 'L', 'L', 'L', '.', 'L', 'L', 'L', 'L', 'L', 'L', 'L', 'L',\n",
       "        'L', 'L', 'L', 'L'],\n",
       "       ['L', 'L', 'L', 'L', 'L', 'L', 'L', '.', 'L', 'L', 'L', 'L', 'L',\n",
       "        'L', 'L', '.', 'L', 'L', 'L', 'L', 'L', 'L', 'L', 'L', 'L', 'L',\n",
       "        'L', 'L', 'L', 'L', 'L', 'L', 'L', 'L', 'L', 'L', 'L', 'L', 'L',\n",
       "        'L', 'L', 'L', 'L', 'L', 'L', '.', 'L', 'L', 'L', 'L', 'L', 'L',\n",
       "        '.', 'L', 'L', 'L', 'L', 'L', 'L', 'L', 'L', 'L', 'L', 'L', 'L',\n",
       "        'L', 'L', 'L', 'L', 'L', 'L', 'L', '.', 'L', 'L', 'L', 'L', 'L',\n",
       "        'L', 'L', 'L', 'L', '.', 'L', 'L', 'L', 'L', 'L', 'L', 'L', 'L',\n",
       "        'L', 'L', 'L', 'L']], dtype='<U1')"
      ]
     },
     "execution_count": 3,
     "metadata": {},
     "output_type": "execute_result"
    }
   ],
   "source": [
    "np.array(seats)[:2]"
   ]
  },
  {
   "cell_type": "code",
   "execution_count": 4,
   "metadata": {},
   "outputs": [],
   "source": [
    "def occupied_in_env(seats, row, col):\n",
    "    \n",
    "    occupied = 0\n",
    "    m, n = seats.shape\n",
    "    \n",
    "    for i in range(row - 1, row + 2):\n",
    "        for j in range(col - 1, col + 2):\n",
    "            # print(f'{i}, {j}: {seats[i][j]}\\n')\n",
    "            if (i == row and j == col) or i >= m or i < 0 or j >= n or j < 0:\n",
    "                continue\n",
    "            if seats[i][j] == '#':\n",
    "                occupied += 1\n",
    "    \n",
    "    return occupied"
   ]
  },
  {
   "cell_type": "code",
   "execution_count": 5,
   "metadata": {},
   "outputs": [],
   "source": [
    "def apply_rules(seats=seats):\n",
    "    \n",
    "    changed = 0 \n",
    "    m, n = seats.shape\n",
    "    next_seats = seats.copy()\n",
    "    \n",
    "    for i in range(m):\n",
    "        for j in range(n):\n",
    "            if seats[i][j] == 'L' and occupied_in_env(seats, i, j) == 0:\n",
    "                changed += 1\n",
    "                next_seats[i][j] = '#'\n",
    "            if seats[i][j] == '#' and occupied_in_env(seats, i, j) > 3:\n",
    "                changed += 1\n",
    "                next_seats[i][j] = 'L'\n",
    "                \n",
    "    return next_seats, changed"
   ]
  },
  {
   "cell_type": "code",
   "execution_count": 6,
   "metadata": {},
   "outputs": [
    {
     "name": "stdout",
     "output_type": "stream",
     "text": [
      "Iteration 0\n",
      "7075 changed seats\n",
      "We have 0.18160786581839214 that stayed the same\n",
      "Iteration 10\n",
      "4441 changed seats\n",
      "We have 0.48629265471370736 that stayed the same\n",
      "Iteration 20\n",
      "2482 changed seats\n",
      "We have 0.7128976286871024 that stayed the same\n",
      "Iteration 30\n",
      "1291 changed seats\n",
      "We have 0.8506651243493348 that stayed the same\n",
      "Iteration 40\n",
      "518 changed seats\n",
      "We have 0.940080971659919 that stayed the same\n",
      "Iteration 50\n",
      "274 changed seats\n",
      "We have 0.9683053788316947 that stayed the same\n",
      "Iteration 60\n",
      "156 changed seats\n",
      "We have 0.9819548872180451 that stayed the same\n",
      "Iteration 70\n",
      "81 changed seats\n",
      "We have 0.9906304222093696 that stayed the same\n",
      "Iteration 80\n",
      "0 changed seats\n",
      "We have 1.0 that stayed the same\n",
      "We got em\n"
     ]
    }
   ],
   "source": [
    "it = 0\n",
    "\n",
    "n_seats = [seats.copy()]\n",
    "\n",
    "while it < 100:\n",
    "        \n",
    "    nn_seats, changed = apply_rules(n_seats[it])\n",
    "   \n",
    "    n_seats.append(nn_seats)\n",
    "    \n",
    "    comparison = (n_seats[it] == n_seats[it + 1])\n",
    "    \n",
    "    if it % 10 == 0:\n",
    "        print(f'Iteration {it}')\n",
    "        print(f'{changed} changed seats')\n",
    "        print(f'We have {np.sum(comparison) / np.prod(n_seats[0].shape)} that stayed the same')\n",
    "    \n",
    "    if comparison.all():\n",
    "        print('We got em')\n",
    "        break\n",
    "    \n",
    "    it += 1"
   ]
  },
  {
   "cell_type": "code",
   "execution_count": 7,
   "metadata": {},
   "outputs": [
    {
     "data": {
      "text/plain": [
       "82"
      ]
     },
     "execution_count": 7,
     "metadata": {},
     "output_type": "execute_result"
    }
   ],
   "source": [
    "len(n_seats)"
   ]
  },
  {
   "cell_type": "code",
   "execution_count": 8,
   "metadata": {},
   "outputs": [],
   "source": [
    "result = n_seats[81]"
   ]
  },
  {
   "cell_type": "code",
   "execution_count": 9,
   "metadata": {},
   "outputs": [
    {
     "data": {
      "text/plain": [
       "2204"
      ]
     },
     "execution_count": 9,
     "metadata": {},
     "output_type": "execute_result"
    }
   ],
   "source": [
    "np.sum(result == '#')"
   ]
  },
  {
   "cell_type": "code",
   "execution_count": 10,
   "metadata": {},
   "outputs": [],
   "source": [
    "def occupied_in_env_2(seats, row, col):\n",
    "    \n",
    "    occupied = 0\n",
    "    m, n = seats.shape\n",
    "    \n",
    "    directions = [(1, 0), (0, 1), (-1, 0), (0, -1), (1, 1), (-1, -1), (-1, 1), (1, -1)]\n",
    "    \n",
    "    for di in directions:\n",
    "        nothing = True\n",
    "        inc_r, inc_c = di\n",
    "        i = row\n",
    "        j = col\n",
    "        \n",
    "        while nothing:\n",
    "            \n",
    "            i += inc_r\n",
    "            j += inc_c\n",
    "            \n",
    "            if (i == row and j == col) or i >= m or i < 0 or j >= n or j < 0:\n",
    "                nothing = False\n",
    "                break\n",
    "            if seats[i][j] == '#':\n",
    "                occupied += 1\n",
    "                nothing = False\n",
    "            if seats[i][j] == 'L':\n",
    "                nothing = False\n",
    "    \n",
    "    return occupied"
   ]
  },
  {
   "cell_type": "code",
   "execution_count": 12,
   "metadata": {},
   "outputs": [],
   "source": [
    "def apply_rules_2(seats=seats):\n",
    "    \n",
    "    changed = 0 \n",
    "    m, n = seats.shape\n",
    "    next_seats = seats.copy()\n",
    "    \n",
    "    for i in range(m):\n",
    "        for j in range(n):\n",
    "            if seats[i][j] == 'L' and occupied_in_env_2(seats, i, j) == 0:\n",
    "                changed += 1\n",
    "                next_seats[i][j] = '#'\n",
    "            if seats[i][j] == '#' and occupied_in_env_2(seats, i, j) > 4:\n",
    "                changed += 1\n",
    "                next_seats[i][j] = 'L'\n",
    "                \n",
    "    return next_seats, changed"
   ]
  },
  {
   "cell_type": "code",
   "execution_count": 13,
   "metadata": {},
   "outputs": [
    {
     "name": "stdout",
     "output_type": "stream",
     "text": [
      "Iteration 0\n",
      "7075 changed seats\n",
      "We have 0.18160786581839214 that stayed the same\n",
      "Iteration 10\n",
      "6838 changed seats\n",
      "We have 0.20902255639097744 that stayed the same\n",
      "Iteration 20\n",
      "6243 changed seats\n",
      "We have 0.2778484673221515 that stayed the same\n",
      "Iteration 30\n",
      "5262 changed seats\n",
      "We have 0.3913244650086755 that stayed the same\n",
      "Iteration 40\n",
      "3887 changed seats\n",
      "We have 0.5503759398496241 that stayed the same\n",
      "Iteration 50\n",
      "2416 changed seats\n",
      "We have 0.720532099479468 that stayed the same\n",
      "Iteration 60\n",
      "1269 changed seats\n",
      "We have 0.8532099479467901 that stayed the same\n",
      "Iteration 70\n",
      "502 changed seats\n",
      "We have 0.9419317524580683 that stayed the same\n",
      "Iteration 80\n",
      "59 changed seats\n",
      "We have 0.9931752458068247 that stayed the same\n",
      "We got em\n"
     ]
    }
   ],
   "source": [
    "it = 0\n",
    "\n",
    "n_seats = [seats.copy()]\n",
    "\n",
    "while it < 100:\n",
    "        \n",
    "    nn_seats, changed = apply_rules_2(n_seats[it])\n",
    "   \n",
    "    n_seats.append(nn_seats)\n",
    "    \n",
    "    comparison = (n_seats[it] == n_seats[it + 1])\n",
    "    \n",
    "    if it % 10 == 0:\n",
    "        print(f'Iteration {it}')\n",
    "        print(f'{changed} changed seats')\n",
    "        print(f'We have {np.sum(comparison) / np.prod(n_seats[0].shape)} that stayed the same')\n",
    "    \n",
    "    if comparison.all():\n",
    "        print('We got em')\n",
    "        break\n",
    "    \n",
    "    it += 1"
   ]
  },
  {
   "cell_type": "code",
   "execution_count": 14,
   "metadata": {},
   "outputs": [
    {
     "data": {
      "text/plain": [
       "87"
      ]
     },
     "execution_count": 14,
     "metadata": {},
     "output_type": "execute_result"
    }
   ],
   "source": [
    "len(n_seats)"
   ]
  },
  {
   "cell_type": "code",
   "execution_count": 15,
   "metadata": {},
   "outputs": [],
   "source": [
    "result = n_seats[86]"
   ]
  },
  {
   "cell_type": "code",
   "execution_count": 16,
   "metadata": {},
   "outputs": [
    {
     "data": {
      "text/plain": [
       "1986"
      ]
     },
     "execution_count": 16,
     "metadata": {},
     "output_type": "execute_result"
    }
   ],
   "source": [
    "np.sum(result == '#')"
   ]
  },
  {
   "cell_type": "code",
   "execution_count": null,
   "metadata": {},
   "outputs": [],
   "source": []
  }
 ],
 "metadata": {
  "kernelspec": {
   "display_name": "ds",
   "language": "python",
   "name": "ds"
  },
  "language_info": {
   "codemirror_mode": {
    "name": "ipython",
    "version": 3
   },
   "file_extension": ".py",
   "mimetype": "text/x-python",
   "name": "python",
   "nbconvert_exporter": "python",
   "pygments_lexer": "ipython3",
   "version": "3.8.5"
  }
 },
 "nbformat": 4,
 "nbformat_minor": 4
}
