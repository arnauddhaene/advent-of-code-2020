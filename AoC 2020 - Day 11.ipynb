{
 "cells": [
  {
   "cell_type": "code",
   "execution_count": 1,
   "metadata": {},
   "outputs": [],
   "source": [
    "import os\n",
    "from pathlib import Path\n",
    "import re\n",
    "import numpy as np\n",
    "from itertools import combinations\n",
    "from collections import Counter"
   ]
  },
  {
   "cell_type": "code",
   "execution_count": 11,
   "metadata": {},
   "outputs": [],
   "source": [
    "with open(Path(os.getcwd()) / 'data' / 'input-day-11.txt') as file:\n",
    "    seats = file.read().split('\\n')[:-1]\n",
    "    \n",
    "seats = np.array([ list(seat) for seat in seats ])"
   ]
  },
  {
   "cell_type": "code",
   "execution_count": 13,
   "metadata": {},
   "outputs": [
    {
     "data": {
      "text/plain": [
       "array([['L', 'L', 'L', 'L', 'L', 'L', 'L', 'L', 'L', '.', 'L', 'L', 'L',\n",
       "        'L', 'L', '.', 'L', 'L', 'L', 'L', 'L', 'L', 'L', 'L', 'L', '.',\n",
       "        'L', 'L', 'L', 'L', 'L', 'L', 'L', 'L', 'L', 'L', 'L', 'L', '.',\n",
       "        'L', 'L', 'L', 'L', 'L', 'L', '.', 'L', 'L', '.', 'L', 'L', 'L',\n",
       "        '.', 'L', 'L', '.', 'L', '.', 'L', 'L', 'L', 'L', 'L', 'L', 'L',\n",
       "        'L', 'L', 'L', 'L', 'L', 'L', 'L', '.', 'L', 'L', 'L', 'L', 'L',\n",
       "        'L', 'L', 'L', 'L', '.', 'L', 'L', 'L', 'L', 'L', 'L', 'L', 'L',\n",
       "        'L', 'L', 'L', 'L'],\n",
       "       ['L', 'L', 'L', 'L', 'L', 'L', 'L', '.', 'L', 'L', 'L', 'L', 'L',\n",
       "        'L', 'L', '.', 'L', 'L', 'L', 'L', 'L', 'L', 'L', 'L', 'L', 'L',\n",
       "        'L', 'L', 'L', 'L', 'L', 'L', 'L', 'L', 'L', 'L', 'L', 'L', 'L',\n",
       "        'L', 'L', 'L', 'L', 'L', 'L', '.', 'L', 'L', 'L', 'L', 'L', 'L',\n",
       "        '.', 'L', 'L', 'L', 'L', 'L', 'L', 'L', 'L', 'L', 'L', 'L', 'L',\n",
       "        'L', 'L', 'L', 'L', 'L', 'L', 'L', '.', 'L', 'L', 'L', 'L', 'L',\n",
       "        'L', 'L', 'L', 'L', '.', 'L', 'L', 'L', 'L', 'L', 'L', 'L', 'L',\n",
       "        'L', 'L', 'L', 'L']], dtype='<U1')"
      ]
     },
     "execution_count": 13,
     "metadata": {},
     "output_type": "execute_result"
    }
   ],
   "source": [
    "np.array(seats)[:2]"
   ]
  },
  {
   "cell_type": "code",
   "execution_count": 67,
   "metadata": {},
   "outputs": [],
   "source": [
    "def occupied_in_env(seats, row, col):\n",
    "    \n",
    "    occupied = 0\n",
    "    m, n = seats.shape\n",
    "    \n",
    "    for i in range(row - 1, row + 2):\n",
    "        for j in range(col - 1, col + 2):\n",
    "            # print(f'{i}, {j}: {seats[i][j]}\\n')\n",
    "            if (i == row and j == col) or i >= m or i < 0 or j >= n or j < 0:\n",
    "                continue\n",
    "            if seats[i][j] == '#':\n",
    "                occupied += 1\n",
    "    \n",
    "    return occupied"
   ]
  },
  {
   "cell_type": "code",
   "execution_count": 68,
   "metadata": {},
   "outputs": [],
   "source": [
    "def apply_rules(seats=seats):\n",
    "    \n",
    "    changed = 0 \n",
    "    m, n = seats.shape\n",
    "    next_seats = seats.copy()\n",
    "    \n",
    "    for i in range(m):\n",
    "        for j in range(n):\n",
    "            if seats[i][j] == 'L' and occupied_in_env(seats, i, j) == 0:\n",
    "                changed += 1\n",
    "                next_seats[i][j] = '#'\n",
    "            if seats[i][j] == '#' and occupied_in_env(seats, i, j) > 3:\n",
    "                changed += 1\n",
    "                next_seats[i][j] = 'L'\n",
    "                \n",
    "    return next_seats, changed"
   ]
  },
  {
   "cell_type": "code",
   "execution_count": 69,
   "metadata": {},
   "outputs": [
    {
     "name": "stdout",
     "output_type": "stream",
     "text": [
      "Iteration 0\n",
      "7075 changed seats\n",
      "We have 0.18160786581839214 % that stayed the same\n",
      "Iteration 10\n",
      "4441 changed seats\n",
      "We have 0.48629265471370736 % that stayed the same\n",
      "Iteration 20\n",
      "2482 changed seats\n",
      "We have 0.7128976286871024 % that stayed the same\n",
      "Iteration 30\n",
      "1291 changed seats\n",
      "We have 0.8506651243493348 % that stayed the same\n",
      "Iteration 40\n",
      "518 changed seats\n",
      "We have 0.940080971659919 % that stayed the same\n",
      "Iteration 50\n",
      "274 changed seats\n",
      "We have 0.9683053788316947 % that stayed the same\n",
      "Iteration 60\n",
      "156 changed seats\n",
      "We have 0.9819548872180451 % that stayed the same\n",
      "Iteration 70\n",
      "81 changed seats\n",
      "We have 0.9906304222093696 % that stayed the same\n",
      "Iteration 80\n",
      "0 changed seats\n",
      "We have 1.0 % that stayed the same\n",
      "We got em\n"
     ]
    }
   ],
   "source": [
    "it = 0\n",
    "\n",
    "n_seats = [seats.copy()]\n",
    "\n",
    "while it < 100:\n",
    "        \n",
    "    nn_seats, changed = apply_rules(n_seats[it])\n",
    "   \n",
    "    n_seats.append(nn_seats)\n",
    "    \n",
    "    comparison = (n_seats[it] == n_seats[it + 1])\n",
    "    \n",
    "    if it % 10 == 0:\n",
    "        print(f'Iteration {it}')\n",
    "        print(f'{changed} changed seats')\n",
    "        print(f'We have {np.sum(comparison) / np.prod(n_seats[0].shape)} that stayed the same')\n",
    "    \n",
    "    if comparison.all():\n",
    "        print('We got em')\n",
    "        break\n",
    "    \n",
    "    it += 1"
   ]
  },
  {
   "cell_type": "code",
   "execution_count": 70,
   "metadata": {},
   "outputs": [
    {
     "data": {
      "text/plain": [
       "82"
      ]
     },
     "execution_count": 70,
     "metadata": {},
     "output_type": "execute_result"
    }
   ],
   "source": [
    "len(n_seats)"
   ]
  },
  {
   "cell_type": "code",
   "execution_count": 72,
   "metadata": {},
   "outputs": [],
   "source": [
    "result = n_seats[81]"
   ]
  },
  {
   "cell_type": "code",
   "execution_count": 74,
   "metadata": {},
   "outputs": [
    {
     "data": {
      "text/plain": [
       "2204"
      ]
     },
     "execution_count": 74,
     "metadata": {},
     "output_type": "execute_result"
    }
   ],
   "source": [
    "np.sum(result == '#')"
   ]
  },
  {
   "cell_type": "code",
   "execution_count": 93,
   "metadata": {},
   "outputs": [],
   "source": [
    "def occupied_in_env_2(seats, row, col):\n",
    "    \n",
    "    occupied = 0\n",
    "    m, n = seats.shape\n",
    "    \n",
    "    directions = [(1, 0), (0, 1), (-1, 0), (0, -1), (1, 1), (-1, -1), (-1, 1), (1, -1)]\n",
    "    \n",
    "    for di in directions:\n",
    "        nothing = True\n",
    "        inc_r, inc_c = di\n",
    "        i = row\n",
    "        j = col\n",
    "        \n",
    "        while nothing:\n",
    "            \n",
    "            i += inc_r\n",
    "            j += inc_c\n",
    "            \n",
    "            if (i == row and j == col) or i >= m or i < 0 or j >= n or j < 0:\n",
    "                nothing = False\n",
    "                break\n",
    "            if seats[i][j] == '#':\n",
    "                occupied += 1\n",
    "                nothing = False\n",
    "            if seats[i][j] == 'L':\n",
    "                nothing = False\n",
    "    \n",
    "    return occupied"
   ]
  },
  {
   "cell_type": "code",
   "execution_count": 94,
   "metadata": {},
   "outputs": [],
   "source": [
    "def apply_rules_2(seats=seats):\n",
    "    \n",
    "    changed = 0 \n",
    "    m, n = seats.shape\n",
    "    next_seats = seats.copy()\n",
    "    \n",
    "    for i in range(m):\n",
    "        for j in range(n):\n",
    "            if seats[i][j] == 'L' and occupied_in_env_2(seats, i, j) == 0:\n",
    "                changed += 1\n",
    "                next_seats[i][j] = '#'\n",
    "            if seats[i][j] == '#' and occupied_in_env_2(seats, i, j) > 3:\n",
    "                changed += 1\n",
    "                next_seats[i][j] = 'L'\n",
    "                \n",
    "    return next_seats, changed"
   ]
  },
  {
   "cell_type": "code",
   "execution_count": 95,
   "metadata": {},
   "outputs": [
    {
     "name": "stdout",
     "output_type": "stream",
     "text": [
      "Iteration 0\n",
      "7075 changed seats\n",
      "We have 0.18160786581839214 that stayed the same\n",
      "Iteration 10\n",
      "6872 changed seats\n",
      "We have 0.20508964719491035 that stayed the same\n",
      "Iteration 20\n",
      "6666 changed seats\n",
      "We have 0.22891844997108154 that stayed the same\n",
      "Iteration 30\n",
      "6614 changed seats\n",
      "We have 0.23493348756506652 that stayed the same\n",
      "Iteration 40\n",
      "6614 changed seats\n",
      "We have 0.23493348756506652 that stayed the same\n",
      "Iteration 50\n",
      "6614 changed seats\n",
      "We have 0.23493348756506652 that stayed the same\n",
      "Iteration 60\n",
      "6614 changed seats\n",
      "We have 0.23493348756506652 that stayed the same\n",
      "Iteration 70\n",
      "6614 changed seats\n",
      "We have 0.23493348756506652 that stayed the same\n",
      "Iteration 80\n",
      "6614 changed seats\n",
      "We have 0.23493348756506652 that stayed the same\n",
      "Iteration 90\n",
      "6614 changed seats\n",
      "We have 0.23493348756506652 that stayed the same\n"
     ]
    }
   ],
   "source": [
    "it = 0\n",
    "\n",
    "n_seats = [seats.copy()]\n",
    "\n",
    "while it < 100:\n",
    "        \n",
    "    nn_seats, changed = apply_rules_2(n_seats[it])\n",
    "   \n",
    "    n_seats.append(nn_seats)\n",
    "    \n",
    "    comparison = (n_seats[it] == n_seats[it + 1])\n",
    "    \n",
    "    if it % 10 == 0:\n",
    "        print(f'Iteration {it}')\n",
    "        print(f'{changed} changed seats')\n",
    "        print(f'We have {np.sum(comparison) / np.prod(n_seats[0].shape)} that stayed the same')\n",
    "    \n",
    "    if comparison.all():\n",
    "        print('We got em')\n",
    "        break\n",
    "    \n",
    "    it += 1"
   ]
  },
  {
   "cell_type": "code",
   "execution_count": null,
   "metadata": {},
   "outputs": [],
   "source": []
  }
 ],
 "metadata": {
  "kernelspec": {
   "display_name": "datascience",
   "language": "python",
   "name": "datascience"
  },
  "language_info": {
   "codemirror_mode": {
    "name": "ipython",
    "version": 3
   },
   "file_extension": ".py",
   "mimetype": "text/x-python",
   "name": "python",
   "nbconvert_exporter": "python",
   "pygments_lexer": "ipython3",
   "version": "3.7.9"
  }
 },
 "nbformat": 4,
 "nbformat_minor": 4
}
