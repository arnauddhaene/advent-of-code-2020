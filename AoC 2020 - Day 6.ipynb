{
 "cells": [
  {
   "cell_type": "code",
   "execution_count": 1,
   "metadata": {},
   "outputs": [],
   "source": [
    "import os\n",
    "from pathlib import Path\n",
    "import re\n",
    "import numpy as np"
   ]
  },
  {
   "cell_type": "code",
   "execution_count": 2,
   "metadata": {},
   "outputs": [
    {
     "data": {
      "text/plain": [
       "['mswxhfpl\\nxmhulfp\\njhglrxfvmp\\nxtldhmpf',\n",
       " 'c\\nc\\nlc\\nc',\n",
       " 'zxe\\nex\\noxncuje\\nvdex\\ndevx',\n",
       " 'xjylztwnkbma\\napxzvjlwnbdyk\\nzlnbrkyagwjx\\nykslxwbjuzang\\nwjkbylazxne',\n",
       " 'aekysof\\necfokmdaysl\\nykiosefa\\noxsugykeaf\\nfstyoake']"
      ]
     },
     "execution_count": 2,
     "metadata": {},
     "output_type": "execute_result"
    }
   ],
   "source": [
    "with open(Path(os.getcwd()) / 'data' / 'input-day-6.txt') as file:\n",
    "    answers = file.read().split('\\n\\n')\n",
    "answers[:5]"
   ]
  },
  {
   "cell_type": "code",
   "execution_count": 3,
   "metadata": {},
   "outputs": [
    {
     "data": {
      "text/plain": [
       "6726"
      ]
     },
     "execution_count": 3,
     "metadata": {},
     "output_type": "execute_result"
    }
   ],
   "source": [
    "# Part One\n",
    "sum([ len(''.join(set(''.join(answer.split())))) for answer in answers ])"
   ]
  },
  {
   "cell_type": "code",
   "execution_count": 4,
   "metadata": {},
   "outputs": [
    {
     "data": {
      "text/plain": [
       "3316"
      ]
     },
     "execution_count": 4,
     "metadata": {},
     "output_type": "execute_result"
    }
   ],
   "source": [
    "# Part Two\n",
    "total = []\n",
    "for answer in answers:\n",
    "    amount = 0\n",
    "    letters = ''.join(set(''.join(answer.split())))\n",
    "    for letter in letters:\n",
    "        amount += 1 if all(letter in line for line in answer.split()) else 0\n",
    "            \n",
    "    total.append(amount)\n",
    "    \n",
    "sum(total)"
   ]
  }
 ],
 "metadata": {
  "kernelspec": {
   "display_name": "datascience",
   "language": "python",
   "name": "datascience"
  },
  "language_info": {
   "codemirror_mode": {
    "name": "ipython",
    "version": 3
   },
   "file_extension": ".py",
   "mimetype": "text/x-python",
   "name": "python",
   "nbconvert_exporter": "python",
   "pygments_lexer": "ipython3",
   "version": "3.7.9"
  }
 },
 "nbformat": 4,
 "nbformat_minor": 4
}
