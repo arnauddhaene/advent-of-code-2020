{
 "cells": [
  {
   "cell_type": "code",
   "execution_count": 75,
   "metadata": {},
   "outputs": [],
   "source": [
    "import os\n",
    "from pathlib import Path\n",
    "import re\n",
    "import numpy as np\n",
    "from itertools import combinations\n",
    "from collections import Counter\n",
    "from sympy import Interval, Union"
   ]
  },
  {
   "cell_type": "code",
   "execution_count": 92,
   "metadata": {},
   "outputs": [],
   "source": [
    "# Preprocessing\n",
    "raw_rules = raw_rules.split('\\n')\n",
    "my_ticket = np.array(my_ticket.split('\\n')[1].split(','))\n",
    "tickets = np.array([ ticket.split(',') for ticket in tickets.split('\\n')[1:-1] ])"
   ]
  },
  {
   "cell_type": "code",
   "execution_count": 93,
   "metadata": {},
   "outputs": [],
   "source": [
    "rules = {}\n",
    "\n",
    "for line in raw_rules:\n",
    "    name, values = line.split(': ')\n",
    "    rules[name] = []\n",
    "    \n",
    "    for bounds in values.split(' or '):\n",
    "        lower, higher = map(lambda s: int(s), bounds.split('-'))\n",
    "        rules[name] = [ *rules[name], (lower, higher + 1) ]"
   ]
  },
  {
   "cell_type": "code",
   "execution_count": 94,
   "metadata": {},
   "outputs": [
    {
     "data": {
      "text/plain": [
       "[(30, 630),\n",
       " (637, 969),\n",
       " (32, 817),\n",
       " (825, 972),\n",
       " (44, 241),\n",
       " (265, 961),\n",
       " (45, 295),\n",
       " (317, 969),\n",
       " (35, 446),\n",
       " (469, 955),\n",
       " (35, 283),\n",
       " (288, 965),\n",
       " (36, 891),\n",
       " (901, 952),\n",
       " (35, 693),\n",
       " (706, 958),\n",
       " (38, 122),\n",
       " (129, 959),\n",
       " (32, 807),\n",
       " (815, 960),\n",
       " (25, 321),\n",
       " (344, 955),\n",
       " (40, 676),\n",
       " (685, 950),\n",
       " (44, 739),\n",
       " (762, 971),\n",
       " (32, 561),\n",
       " (567, 952),\n",
       " (38, 267),\n",
       " (274, 956),\n",
       " (41, 482),\n",
       " (492, 954),\n",
       " (48, 213),\n",
       " (233, 951),\n",
       " (36, 375),\n",
       " (394, 959),\n",
       " (45, 102),\n",
       " (118, 968),\n",
       " (42, 571),\n",
       " (579, 961)]"
      ]
     },
     "execution_count": 94,
     "metadata": {},
     "output_type": "execute_result"
    }
   ],
   "source": [
    "values = []\n",
    "\n",
    "for val in rules.values():\n",
    "    values = [ *val, *values ]"
   ]
  },
  {
   "cell_type": "code",
   "execution_count": 95,
   "metadata": {},
   "outputs": [
    {
     "data": {
      "text/plain": [
       "range(25, 972)"
      ]
     },
     "execution_count": 95,
     "metadata": {},
     "output_type": "execute_result"
    }
   ],
   "source": [
    "def union(data):\n",
    "    \"\"\" Union of a list of intervals e.g. [(1,2),(3,4)] \"\"\"\n",
    "    intervals = [Interval(begin, end) for (begin, end) in data]\n",
    "    u = Union(*intervals)\n",
    "    return [list(u.args[:2])] if isinstance(u, Interval) \\\n",
    "       else list(u.args)\n",
    "\n",
    "large_range = range(*tuple(union(values)[0]))\n",
    "large_range"
   ]
  },
  {
   "cell_type": "code",
   "execution_count": 134,
   "metadata": {},
   "outputs": [],
   "source": [
    "errors = []\n",
    "valid_ticket_indices = []\n",
    "for i, ticket in enumerate(tickets):\n",
    "    ticket_errors = [ int(value) for value in ticket if int(value) not in large_range ]\n",
    "    if len(ticket_errors) > 0:\n",
    "        errors = [ *errors, *ticket_errors ]\n",
    "    valid_ticket_indices.append(len(ticket_errors) == 0)"
   ]
  },
  {
   "cell_type": "code",
   "execution_count": 131,
   "metadata": {},
   "outputs": [
    {
     "data": {
      "text/plain": [
       "24980"
      ]
     },
     "execution_count": 131,
     "metadata": {},
     "output_type": "execute_result"
    }
   ],
   "source": [
    "np.sum(errors)"
   ]
  },
  {
   "cell_type": "code",
   "execution_count": 137,
   "metadata": {},
   "outputs": [
    {
     "data": {
      "text/plain": [
       "{'departure location': [(42, 571), (579, 961)],\n",
       " 'departure station': [(45, 102), (118, 968)],\n",
       " 'departure platform': [(36, 375), (394, 959)],\n",
       " 'departure track': [(48, 213), (233, 951)],\n",
       " 'departure date': [(41, 482), (492, 954)],\n",
       " 'departure time': [(38, 267), (274, 956)],\n",
       " 'arrival location': [(32, 561), (567, 952)],\n",
       " 'arrival station': [(44, 739), (762, 971)],\n",
       " 'arrival platform': [(40, 676), (685, 950)],\n",
       " 'arrival track': [(25, 321), (344, 955)],\n",
       " 'class': [(32, 807), (815, 960)],\n",
       " 'duration': [(38, 122), (129, 959)],\n",
       " 'price': [(35, 693), (706, 958)],\n",
       " 'route': [(36, 891), (901, 952)],\n",
       " 'row': [(35, 283), (288, 965)],\n",
       " 'seat': [(35, 446), (469, 955)],\n",
       " 'train': [(45, 295), (317, 969)],\n",
       " 'type': [(44, 241), (265, 961)],\n",
       " 'wagon': [(32, 817), (825, 972)],\n",
       " 'zone': [(30, 630), (637, 969)]}"
      ]
     },
     "execution_count": 137,
     "metadata": {},
     "output_type": "execute_result"
    }
   ],
   "source": [
    "rules"
   ]
  },
  {
   "cell_type": "code",
   "execution_count": 143,
   "metadata": {},
   "outputs": [
    {
     "data": {
      "text/plain": [
       "(190, 20)"
      ]
     },
     "execution_count": 143,
     "metadata": {},
     "output_type": "execute_result"
    }
   ],
   "source": [
    "valid_tickets = tickets[valid_ticket_indices]\n",
    "m, n = valid_tickets.shape\n",
    "m, n"
   ]
  },
  {
   "cell_type": "code",
   "execution_count": 178,
   "metadata": {},
   "outputs": [],
   "source": [
    "possibilities = {}\n",
    "\n",
    "for index in range(n):\n",
    "    possibilities[index] = list(rules.keys())"
   ]
  },
  {
   "cell_type": "code",
   "execution_count": 179,
   "metadata": {},
   "outputs": [],
   "source": [
    "for ticket in valid_tickets:\n",
    "    for i, value in enumerate(ticket):\n",
    "        for rule, ranges in rules.items():\n",
    "            if int(value) not in range(*ranges[0]) and int(value) not in range(*ranges[1]):\n",
    "                possibilities[i].remove(rule)"
   ]
  },
  {
   "cell_type": "code",
   "execution_count": 196,
   "metadata": {},
   "outputs": [],
   "source": [
    "finished = True\n",
    "\n",
    "while finished:\n",
    "    \n",
    "    for index, possibility in possibilities.items():\n",
    "        if len(possibility) == 1:\n",
    "            for i, p in possibilities.items():\n",
    "                if possibility[0] in p and i != index:\n",
    "                    p.remove(possibility[0])\n",
    "    \n",
    "    finished = not all([ len(p) == 1 for p in possibilities.values() ])"
   ]
  },
  {
   "cell_type": "code",
   "execution_count": 197,
   "metadata": {},
   "outputs": [
    {
     "data": {
      "text/plain": [
       "{0: ['arrival track'],\n",
       " 1: ['duration'],\n",
       " 2: ['departure time'],\n",
       " 3: ['departure station'],\n",
       " 4: ['class'],\n",
       " 5: ['type'],\n",
       " 6: ['departure date'],\n",
       " 7: ['wagon'],\n",
       " 8: ['arrival platform'],\n",
       " 9: ['price'],\n",
       " 10: ['arrival location'],\n",
       " 11: ['row'],\n",
       " 12: ['departure platform'],\n",
       " 13: ['zone'],\n",
       " 14: ['arrival station'],\n",
       " 15: ['departure location'],\n",
       " 16: ['train'],\n",
       " 17: ['route'],\n",
       " 18: ['departure track'],\n",
       " 19: ['seat']}"
      ]
     },
     "execution_count": 197,
     "metadata": {},
     "output_type": "execute_result"
    }
   ],
   "source": [
    "possibilities"
   ]
  },
  {
   "cell_type": "code",
   "execution_count": 204,
   "metadata": {},
   "outputs": [
    {
     "data": {
      "text/plain": [
       "618"
      ]
     },
     "execution_count": 204,
     "metadata": {},
     "output_type": "execute_result"
    }
   ],
   "source": [
    "my_ticket = np.array(list(map(lambda s: int(s), my_ticket)))\n",
    "np.sum(np.take(my_ticket, [2, 3, 6, 12, 15, 18]))"
   ]
  },
  {
   "cell_type": "code",
   "execution_count": null,
   "metadata": {},
   "outputs": [],
   "source": []
  }
 ],
 "metadata": {
  "kernelspec": {
   "display_name": "ds",
   "language": "python",
   "name": "ds"
  },
  "language_info": {
   "codemirror_mode": {
    "name": "ipython",
    "version": 3
   },
   "file_extension": ".py",
   "mimetype": "text/x-python",
   "name": "python",
   "nbconvert_exporter": "python",
   "pygments_lexer": "ipython3",
   "version": "3.8.5"
  }
 },
 "nbformat": 4,
 "nbformat_minor": 4
}
