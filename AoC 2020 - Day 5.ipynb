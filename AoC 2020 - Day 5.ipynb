{
 "cells": [
  {
   "cell_type": "code",
   "execution_count": 1,
   "metadata": {},
   "outputs": [],
   "source": [
    "import os\n",
    "from pathlib import Path\n",
    "import re\n",
    "import numpy as np"
   ]
  },
  {
   "cell_type": "code",
   "execution_count": 2,
   "metadata": {},
   "outputs": [
    {
     "data": {
      "text/plain": [
       "['FFBBBFBLRL', 'BFFFBFBRRR', 'BFFFBFBLRL', 'BFFBFBBLRR', 'BBFFBFFRLL']"
      ]
     },
     "execution_count": 2,
     "metadata": {},
     "output_type": "execute_result"
    }
   ],
   "source": [
    "with open(Path(os.getcwd()) / 'data' / 'input-day-5.txt') as file:\n",
    "    passes = file.read().split('\\n')[:-1]\n",
    "passes[:5]"
   ]
  },
  {
   "cell_type": "code",
   "execution_count": 3,
   "metadata": {},
   "outputs": [],
   "source": [
    "def get_row(boarding_pass):\n",
    "    lower = 0\n",
    "    higher = 127\n",
    "    for char in boarding_pass[:6]:\n",
    "        if char == 'F':\n",
    "            higher = np.floor(np.mean([lower, higher]))\n",
    "        elif char == 'B':\n",
    "            lower = np.round(np.mean([lower, higher]))\n",
    "        else:\n",
    "            raise BaseException(f'Wrong input: {char}')\n",
    "            \n",
    "    index = 0 if boarding_pass[6] == 'F' else 1\n",
    "    \n",
    "    return (lower, higher)[index]"
   ]
  },
  {
   "cell_type": "code",
   "execution_count": 4,
   "metadata": {},
   "outputs": [],
   "source": [
    "def get_column(boarding_pass):\n",
    "    lower = 0\n",
    "    higher = 7\n",
    "    for char in boarding_pass[7:9]:\n",
    "        if char == 'L':\n",
    "            higher = np.floor(np.mean([lower, higher]))\n",
    "        elif char == 'R':\n",
    "            lower = np.round(np.mean([lower, higher]))\n",
    "        else:\n",
    "            raise BaseException(f'Wrong input: {char}')\n",
    "            \n",
    "    index = 0 if boarding_pass[9] == 'L' else 1\n",
    "    \n",
    "    return (lower, higher)[index]"
   ]
  },
  {
   "cell_type": "code",
   "execution_count": 5,
   "metadata": {},
   "outputs": [],
   "source": [
    "def get_id(row, column):\n",
    "    return row * 8 + column"
   ]
  },
  {
   "cell_type": "code",
   "execution_count": 6,
   "metadata": {},
   "outputs": [
    {
     "data": {
      "text/plain": [
       "878.0"
      ]
     },
     "execution_count": 6,
     "metadata": {},
     "output_type": "execute_result"
    }
   ],
   "source": [
    "ids = [ get_id(get_row(bp), get_column(bp)) for bp in passes ]\n",
    "np.max(ids)"
   ]
  },
  {
   "cell_type": "code",
   "execution_count": 7,
   "metadata": {},
   "outputs": [],
   "source": [
    "diff = np.unique(ids) - np.array(list(range(54, 878)))"
   ]
  },
  {
   "cell_type": "code",
   "execution_count": 8,
   "metadata": {},
   "outputs": [
    {
     "data": {
      "text/plain": [
       "(450, 505.0)"
      ]
     },
     "execution_count": 8,
     "metadata": {},
     "output_type": "execute_result"
    }
   ],
   "source": [
    "next((x[0], np.unique(ids)[x[0]]) for x in enumerate(diff) if x[1] > 0)"
   ]
  },
  {
   "cell_type": "code",
   "execution_count": 9,
   "metadata": {},
   "outputs": [
    {
     "data": {
      "text/plain": [
       "array([502., 503., 505., 506.])"
      ]
     },
     "execution_count": 9,
     "metadata": {},
     "output_type": "execute_result"
    }
   ],
   "source": [
    "np.unique(ids)[448:452]"
   ]
  }
 ],
 "metadata": {
  "kernelspec": {
   "display_name": "datascience",
   "language": "python",
   "name": "datascience"
  },
  "language_info": {
   "codemirror_mode": {
    "name": "ipython",
    "version": 3
   },
   "file_extension": ".py",
   "mimetype": "text/x-python",
   "name": "python",
   "nbconvert_exporter": "python",
   "pygments_lexer": "ipython3",
   "version": "3.7.9"
  }
 },
 "nbformat": 4,
 "nbformat_minor": 4
}
