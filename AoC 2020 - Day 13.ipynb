{
 "cells": [
  {
   "cell_type": "code",
   "execution_count": 1,
   "metadata": {},
   "outputs": [],
   "source": [
    "import os\n",
    "from pathlib import Path\n",
    "import re\n",
    "import numpy as np\n",
    "from itertools import combinations\n",
    "from collections import Counter"
   ]
  },
  {
   "cell_type": "code",
   "execution_count": 2,
   "metadata": {},
   "outputs": [],
   "source": [
    "with open(Path(os.getcwd()) / 'data' / 'input-day-13.txt') as file:\n",
    "    inp = file.read().split('\\n')[:-1]\n",
    "    \n",
    "timestamp, lines = inp"
   ]
  },
  {
   "cell_type": "code",
   "execution_count": 3,
   "metadata": {},
   "outputs": [],
   "source": [
    "# test = ['939', '7,13,x,x,59,x,31,19']\n",
    "# timestamp, lines = test"
   ]
  },
  {
   "cell_type": "code",
   "execution_count": 4,
   "metadata": {},
   "outputs": [
    {
     "data": {
      "text/plain": [
       "1002462"
      ]
     },
     "execution_count": 4,
     "metadata": {},
     "output_type": "execute_result"
    }
   ],
   "source": [
    "timestamp = int(timestamp)\n",
    "timestamp"
   ]
  },
  {
   "cell_type": "markdown",
   "metadata": {},
   "source": [
    "### Part One"
   ]
  },
  {
   "cell_type": "code",
   "execution_count": 5,
   "metadata": {},
   "outputs": [
    {
     "data": {
      "text/plain": [
       "[37, 41, 601, 19, 17, 23, 29, 443, 13]"
      ]
     },
     "execution_count": 5,
     "metadata": {},
     "output_type": "execute_result"
    }
   ],
   "source": [
    "# Preprocess line data\n",
    "buses = [ int(line) for line in lines.split(',') if line != 'x' ]\n",
    "buses"
   ]
  },
  {
   "cell_type": "code",
   "execution_count": 6,
   "metadata": {},
   "outputs": [],
   "source": [
    "time_to = list(map(lambda l: np.ceil(timestamp / l) * l - timestamp, buses))\n",
    "# buses[id], min\n",
    "result = ( buses[time_to.index(np.min(time_to))], np.min(time_to) )"
   ]
  },
  {
   "cell_type": "code",
   "execution_count": 7,
   "metadata": {},
   "outputs": [
    {
     "data": {
      "text/plain": [
       "3606.0"
      ]
     },
     "execution_count": 7,
     "metadata": {},
     "output_type": "execute_result"
    }
   ],
   "source": [
    "np.prod(result)"
   ]
  },
  {
   "cell_type": "markdown",
   "metadata": {},
   "source": [
    "### Part Two"
   ]
  },
  {
   "cell_type": "code",
   "execution_count": 8,
   "metadata": {},
   "outputs": [],
   "source": [
    "# Preprocess line data\n",
    "buses = [ int(line) if line != 'x' else 'x' for line in lines.split(',') ]"
   ]
  },
  {
   "cell_type": "code",
   "execution_count": 9,
   "metadata": {},
   "outputs": [
    {
     "data": {
      "text/plain": [
       "379786358533423"
      ]
     },
     "execution_count": 9,
     "metadata": {},
     "output_type": "execute_result"
    }
   ],
   "source": [
    "time = 0\n",
    "prod = 1\n",
    "\n",
    "# Using the Chinese remainder Theorem\n",
    "# We assume the set of lines is pairwise coprime\n",
    "# x = idx (mod line) for all buses\n",
    "for (idx, line) in enumerate(buses):\n",
    "    \n",
    "    # print(f'-----\\nBus Nr. {line}\\n')\n",
    "\n",
    "    # We need to keep 'x' otherwise the indices are messed up\n",
    "    if line == 'x':\n",
    "        continue\n",
    "        \n",
    "    while (time + idx) % line != 0:\n",
    "        time += prod\n",
    "        # print(f'Time == {time}')\n",
    "    \n",
    "    prod *= line\n",
    "    # print(f'\\nProd == {prod}\\n')\n",
    "    \n",
    "time"
   ]
  }
 ],
 "metadata": {
  "kernelspec": {
   "display_name": "datascience",
   "language": "python",
   "name": "datascience"
  },
  "language_info": {
   "codemirror_mode": {
    "name": "ipython",
    "version": 3
   },
   "file_extension": ".py",
   "mimetype": "text/x-python",
   "name": "python",
   "nbconvert_exporter": "python",
   "pygments_lexer": "ipython3",
   "version": "3.7.9"
  }
 },
 "nbformat": 4,
 "nbformat_minor": 4
}
