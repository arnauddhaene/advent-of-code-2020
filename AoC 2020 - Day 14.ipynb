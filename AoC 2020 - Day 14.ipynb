{
 "cells": [
  {
   "cell_type": "code",
   "execution_count": 1,
   "metadata": {},
   "outputs": [],
   "source": [
    "import os\n",
    "from pathlib import Path\n",
    "import re\n",
    "import numpy as np\n",
    "from itertools import combinations\n",
    "from collections import Counter"
   ]
  },
  {
   "cell_type": "code",
   "execution_count": 2,
   "metadata": {},
   "outputs": [
    {
     "data": {
      "text/plain": [
       "['mask = 101XX10X1X00001010011011X1XXX1001011',\n",
       " 'mem[12898] = 4515455',\n",
       " 'mem[39269] = 262864',\n",
       " 'mem[15998] = 27',\n",
       " 'mem[4565] = 896581']"
      ]
     },
     "execution_count": 2,
     "metadata": {},
     "output_type": "execute_result"
    }
   ],
   "source": [
    "with open(Path(os.getcwd()) / 'data' / 'input-day-14.txt') as file:\n",
    "    text = file.read().split('\\n')[:-1]\n",
    "text[:5]"
   ]
  },
  {
   "cell_type": "code",
   "execution_count": 3,
   "metadata": {},
   "outputs": [],
   "source": [
    "# test = ['mask = XXXXXXXXXXXXXXXXXXXXXXXXXXXXX1XXXX0X', 'mem[8] = 11', 'mem[7] = 101', 'mem[8] = 0']"
   ]
  },
  {
   "cell_type": "code",
   "execution_count": 4,
   "metadata": {},
   "outputs": [],
   "source": [
    "def inter(s):\n",
    "    return int(s, 2)"
   ]
  },
  {
   "cell_type": "code",
   "execution_count": 5,
   "metadata": {},
   "outputs": [
    {
     "data": {
      "text/plain": [
       "'000000000000000000000000000001100101'"
      ]
     },
     "execution_count": 5,
     "metadata": {},
     "output_type": "execute_result"
    }
   ],
   "source": [
    "def bin(s):\n",
    "    return str(s) if s<=1 else bin(s>>1) + str(s&1)\n",
    "    \n",
    "def binner(i, length=36):\n",
    "    r = bin(i)\n",
    "    return  (36 - len(r)) * '0' + r\n",
    "\n",
    "binner(101)"
   ]
  },
  {
   "cell_type": "code",
   "execution_count": 6,
   "metadata": {},
   "outputs": [],
   "source": [
    "def indices(s, c):\n",
    "    return [ pos for pos, char in enumerate(s) if char == c ]\n",
    "\n",
    "def masked(binned, mask):\n",
    "    \n",
    "    ones = indices(mask, '1')\n",
    "    zeros = indices(mask, '0')\n",
    "    \n",
    "    b = list(binned)\n",
    "    \n",
    "    for o in ones:\n",
    "        b[o] = '1'\n",
    "    for z in zeros:\n",
    "        b[z] = '0'\n",
    "    \n",
    "    return ''.join(b)"
   ]
  },
  {
   "cell_type": "code",
   "execution_count": 7,
   "metadata": {},
   "outputs": [],
   "source": [
    "mask = 'XXXXXXXXXXXXXXXXXXXXXXXXXXXXXXXXXXXX'\n",
    "memory = {}\n",
    "\n",
    "for line in text:\n",
    "    header, content = line.split(' = ')\n",
    "    \n",
    "    if header == 'mask':\n",
    "        mask = content\n",
    "        # print(f'\\nMask is updated to {mask} \\n')\n",
    "    \n",
    "    if 'mem' in header:\n",
    "        l = len(header)\n",
    "        key = int(header[4:l-1])\n",
    "        value = binner(int(content))\n",
    "        result = inter(masked(value, mask))\n",
    "        # print(f'from {content} to {result}')\n",
    "        if content != result:\n",
    "            memory[key] = result"
   ]
  },
  {
   "cell_type": "code",
   "execution_count": 8,
   "metadata": {},
   "outputs": [
    {
     "data": {
      "text/plain": [
       "12512013221615"
      ]
     },
     "execution_count": 8,
     "metadata": {},
     "output_type": "execute_result"
    }
   ],
   "source": [
    "sum(list(memory.values()))"
   ]
  }
 ],
 "metadata": {
  "kernelspec": {
   "display_name": "ds",
   "language": "python",
   "name": "ds"
  },
  "language_info": {
   "codemirror_mode": {
    "name": "ipython",
    "version": 3
   },
   "file_extension": ".py",
   "mimetype": "text/x-python",
   "name": "python",
   "nbconvert_exporter": "python",
   "pygments_lexer": "ipython3",
   "version": "3.8.5"
  }
 },
 "nbformat": 4,
 "nbformat_minor": 4
}
